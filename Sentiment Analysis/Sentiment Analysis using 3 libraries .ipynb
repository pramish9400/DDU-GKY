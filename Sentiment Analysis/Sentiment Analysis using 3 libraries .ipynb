{
 "cells": [
  {
   "cell_type": "markdown",
   "id": "0b2f031f",
   "metadata": {},
   "source": [
    "# Sentiment Analysis using 3 libraries "
   ]
  },
  {
   "cell_type": "markdown",
   "id": "77cceddd",
   "metadata": {},
   "source": [
    "#### We will be using :\n",
    "<li> Vader\n",
    "<li> Textblob \n",
    "<li> Spacy"
   ]
  },
  {
   "cell_type": "markdown",
   "id": "a103dd4f",
   "metadata": {},
   "source": [
    "#### What is polarity in sentiment analysis?\n",
    "\n",
    "<li> Polarity refers to the overall sentiment conveyed by a particular text, phrase or word. This polarity can be expressed as a numerical rating known as a “sentiment score”. For example, this score can be a number between -100 and 100 with 0 representing neutral sentiment."
   ]
  },
  {
   "cell_type": "markdown",
   "id": "ed6d1f7d",
   "metadata": {},
   "source": [
    "#### what is subjectivity in sentiment analysis\n",
    "<li> Subjectivity lies between [0,1]. Subjectivity quantifies the amount of personal opinion and factual information contained in the text. The higher subjectivity means that the text contains personal opinion rather than factual information."
   ]
  },
  {
   "cell_type": "markdown",
   "id": "175d1524",
   "metadata": {},
   "source": [
    "#### Sample Texts"
   ]
  },
  {
   "cell_type": "code",
   "execution_count": 1,
   "id": "e8bcd62f",
   "metadata": {},
   "outputs": [],
   "source": [
    "text_1 = \"I enjoy learning new stuff\"\n",
    "text_2 = \"Thursday is a day\"\n",
    "text_3 = \"The food at the restaurant was horrible. The service was terrible\"\n",
    "\n",
    "texts = [text_1, text_2, text_3]"
   ]
  },
  {
   "cell_type": "markdown",
   "id": "45138ba7",
   "metadata": {},
   "source": [
    "### 1. Vader"
   ]
  },
  {
   "cell_type": "code",
   "execution_count": 2,
   "id": "1e27895f",
   "metadata": {},
   "outputs": [
    {
     "name": "stderr",
     "output_type": "stream",
     "text": [
      "[nltk_data] Downloading package vader_lexicon to\n",
      "[nltk_data]     C:\\Users\\Refresh\\AppData\\Roaming\\nltk_data...\n",
      "[nltk_data]   Package vader_lexicon is already up-to-date!\n"
     ]
    },
    {
     "data": {
      "text/plain": [
       "True"
      ]
     },
     "execution_count": 2,
     "metadata": {},
     "output_type": "execute_result"
    }
   ],
   "source": [
    "import nltk\n",
    "nltk.download(\"vader_lexicon\")"
   ]
  },
  {
   "cell_type": "code",
   "execution_count": 3,
   "id": "551612dc",
   "metadata": {},
   "outputs": [],
   "source": [
    "from nltk.sentiment.vader import SentimentIntensityAnalyzer"
   ]
  },
  {
   "cell_type": "code",
   "execution_count": 4,
   "id": "8500919e",
   "metadata": {},
   "outputs": [],
   "source": [
    "sid = SentimentIntensityAnalyzer()"
   ]
  },
  {
   "cell_type": "markdown",
   "id": "b201e241",
   "metadata": {},
   "source": [
    "<li> Polarity Scores"
   ]
  },
  {
   "cell_type": "code",
   "execution_count": 5,
   "id": "50a88561",
   "metadata": {},
   "outputs": [
    {
     "name": "stdout",
     "output_type": "stream",
     "text": [
      "Text: I enjoy learning new stuff\n",
      "Analysis: {'neg': 0.0, 'neu': 0.484, 'pos': 0.516, 'compound': 0.4939}\n",
      "============================================================\n",
      "Text: Thursday is a day\n",
      "Analysis: {'neg': 0.0, 'neu': 1.0, 'pos': 0.0, 'compound': 0.0}\n",
      "============================================================\n",
      "Text: The food at the restaurant was horrible. The service was terrible\n",
      "Analysis: {'neg': 0.423, 'neu': 0.577, 'pos': 0.0, 'compound': -0.765}\n",
      "============================================================\n"
     ]
    }
   ],
   "source": [
    "for text in texts:\n",
    "    print(f\"Text: {text}\\nAnalysis: {sid.polarity_scores(text)}\")\n",
    "    print('='*60)"
   ]
  },
  {
   "cell_type": "markdown",
   "id": "e85f1fa7",
   "metadata": {},
   "source": [
    "### Textblob"
   ]
  },
  {
   "cell_type": "markdown",
   "id": "fc459ced",
   "metadata": {},
   "source": [
    "#### !pip install textblob"
   ]
  },
  {
   "cell_type": "code",
   "execution_count": 6,
   "id": "d45de935",
   "metadata": {},
   "outputs": [],
   "source": [
    "import textblob"
   ]
  },
  {
   "cell_type": "code",
   "execution_count": 7,
   "id": "64961a1d",
   "metadata": {},
   "outputs": [
    {
     "name": "stdout",
     "output_type": "stream",
     "text": [
      "Text: I enjoy learning new stuff\n",
      "Sentimnt_Analysis: 0.2681818181818182\n",
      "Subjectivity_Analysis: 0.4772727272727273\n",
      "============================================================\n",
      "Text: Thursday is a day\n",
      "Sentimnt_Analysis: 0.0\n",
      "Subjectivity_Analysis: 0.0\n",
      "============================================================\n",
      "Text: The food at the restaurant was horrible. The service was terrible\n",
      "Sentimnt_Analysis: -1.0\n",
      "Subjectivity_Analysis: 1.0\n",
      "============================================================\n"
     ]
    }
   ],
   "source": [
    "for text in texts:\n",
    "    print(\n",
    "        f\"Text: {text}\\nSentimnt_Analysis: {textblob.TextBlob(text).polarity}\\nSubjectivity_Analysis: {textblob.TextBlob(text).subjectivity}\")\n",
    "    print('=' * 60)"
   ]
  },
  {
   "cell_type": "markdown",
   "id": "149a8222",
   "metadata": {},
   "source": [
    "### Spacy"
   ]
  },
  {
   "cell_type": "markdown",
   "id": "2bd75d8b",
   "metadata": {},
   "source": [
    "#### !pip install spacytextblob"
   ]
  },
  {
   "cell_type": "markdown",
   "id": "9a34eaa7",
   "metadata": {},
   "source": [
    "#### !python -m spacy download en_core_web_sm"
   ]
  },
  {
   "cell_type": "markdown",
   "id": "e98d2d7b",
   "metadata": {},
   "source": [
    "<li> Note:\n",
    "<li> `en_core_web_sm` is lightweight Spacy model.\n",
    "<li> For medium sized model, use: `en_core_web_md`\n",
    "<li> For heavy size model, use: `en_core_web_lg`"
   ]
  },
  {
   "cell_type": "code",
   "execution_count": 8,
   "id": "d2d7d1b4",
   "metadata": {},
   "outputs": [],
   "source": [
    "import spacy"
   ]
  },
  {
   "cell_type": "code",
   "execution_count": 9,
   "id": "6a3f2565",
   "metadata": {},
   "outputs": [],
   "source": [
    "from spacytextblob.spacytextblob import SpacyTextBlob"
   ]
  },
  {
   "cell_type": "code",
   "execution_count": 10,
   "id": "f33e157d",
   "metadata": {
    "scrolled": true
   },
   "outputs": [
    {
     "data": {
      "text/plain": [
       "<spacytextblob.spacytextblob.SpacyTextBlob at 0x183d8210>"
      ]
     },
     "execution_count": 10,
     "metadata": {},
     "output_type": "execute_result"
    }
   ],
   "source": [
    "nlp = spacy.load(\"en_core_web_sm\")\n",
    "nlp.add_pipe(\"spacytextblob\")"
   ]
  },
  {
   "cell_type": "code",
   "execution_count": 11,
   "id": "3d7bd627",
   "metadata": {},
   "outputs": [
    {
     "name": "stdout",
     "output_type": "stream",
     "text": [
      "Text I enjoy learning new stuff\n",
      "Sentimnt_Analtsis: 0.2681818181818182, Subjectivity_Analysis: 0.4772727272727273\n",
      "============================================================\n",
      "Text Thursday is a day\n",
      "Sentimnt_Analtsis: 0.0, Subjectivity_Analysis: 0.0\n",
      "============================================================\n",
      "Text The food at the restaurant was horrible. The service was terrible\n",
      "Sentimnt_Analtsis: -1.0, Subjectivity_Analysis: 1.0\n",
      "============================================================\n"
     ]
    }
   ],
   "source": [
    "for text in texts:\n",
    "    doc = nlp(text)\n",
    "    print(f\"Text {text}\\nSentimnt_Analtsis: {doc._.blob.polarity}, Subjectivity_Analysis: {doc._.blob.subjectivity}\")\n",
    "    print(\"=\" * 60)"
   ]
  }
 ],
 "metadata": {
  "kernelspec": {
   "display_name": "Python 3 (ipykernel)",
   "language": "python",
   "name": "python3"
  },
  "language_info": {
   "codemirror_mode": {
    "name": "ipython",
    "version": 3
   },
   "file_extension": ".py",
   "mimetype": "text/x-python",
   "name": "python",
   "nbconvert_exporter": "python",
   "pygments_lexer": "ipython3",
   "version": "3.11.4"
  }
 },
 "nbformat": 4,
 "nbformat_minor": 5
}
