{
 "cells": [
  {
   "cell_type": "markdown",
   "id": "00dd89c7",
   "metadata": {},
   "source": [
    "# <center> Scipy"
   ]
  },
  {
   "cell_type": "markdown",
   "id": "69b85f37",
   "metadata": {},
   "source": [
    "#### What is SciPy?\n",
    "SciPy is a scientific computation library that uses NumPy underneath.\n",
    "SciPy stands for Scientific Python.\n",
    "It provides more utility functions for optimization, stats and signal processing.\n",
    "Like NumPy, SciPy is open source so we can use it freely.\n",
    "SciPy was created by NumPy's creator Travis Olliphant."
   ]
  },
  {
   "cell_type": "markdown",
   "id": "7899fe73",
   "metadata": {},
   "source": [
    "#### Why Use SciPy?\n",
    "If SciPy uses NumPy underneath, why can we not just use NumPy?\n",
    "SciPy has optimized and added functions that are frequently used in NumPy and Data Science.\n",
    "#### Which Language is SciPy Written in?\n",
    "SciPy is predominantly written in Python, but a few segments are written in C."
   ]
  },
  {
   "cell_type": "markdown",
   "id": "0051146a",
   "metadata": {},
   "source": [
    "### Constants in SciPy\n",
    "As SciPy is more focused on scientific implementations, it provides many built-in scientific constants.\n",
    "These constants can be helpful when you are working with Data Science.\n",
    "PI is an example of a scientific constant."
   ]
  },
  {
   "cell_type": "code",
   "execution_count": 1,
   "id": "1930d803",
   "metadata": {},
   "outputs": [],
   "source": [
    "from scipy import constants\n",
    "import numpy as np"
   ]
  },
  {
   "cell_type": "code",
   "execution_count": 2,
   "id": "036f9999",
   "metadata": {},
   "outputs": [
    {
     "data": {
      "text/plain": [
       "3.141592653589793"
      ]
     },
     "execution_count": 2,
     "metadata": {},
     "output_type": "execute_result"
    }
   ],
   "source": [
    "constants.pi"
   ]
  },
  {
   "cell_type": "markdown",
   "id": "8d024620",
   "metadata": {},
   "source": [
    "### Constant Units\n",
    "A list of all units under the constants module can be seen using the dir( ) function."
   ]
  },
  {
   "cell_type": "code",
   "execution_count": 3,
   "id": "53304e17",
   "metadata": {},
   "outputs": [
    {
     "name": "stdout",
     "output_type": "stream",
     "text": [
      "['Avogadro', 'Boltzmann', 'Btu', 'Btu_IT', 'Btu_th', 'ConstantWarning', 'G', 'Julian_year', 'N_A', 'Planck', 'R', 'Rydberg', 'Stefan_Boltzmann', 'Wien', '__all__', '__builtins__', '__cached__', '__doc__', '__file__', '__loader__', '__name__', '__package__', '__path__', '__spec__', '_codata', '_constants', '_obsolete_constants', 'acre', 'alpha', 'angstrom', 'arcmin', 'arcminute', 'arcsec', 'arcsecond', 'astronomical_unit', 'atm', 'atmosphere', 'atomic_mass', 'atto', 'au', 'bar', 'barrel', 'bbl', 'blob', 'c', 'calorie', 'calorie_IT', 'calorie_th', 'carat', 'centi', 'codata', 'constants', 'convert_temperature', 'day', 'deci', 'degree', 'degree_Fahrenheit', 'deka', 'dyn', 'dyne', 'e', 'eV', 'electron_mass', 'electron_volt', 'elementary_charge', 'epsilon_0', 'erg', 'exa', 'exbi', 'femto', 'fermi', 'find', 'fine_structure', 'fluid_ounce', 'fluid_ounce_US', 'fluid_ounce_imp', 'foot', 'g', 'gallon', 'gallon_US', 'gallon_imp', 'gas_constant', 'gibi', 'giga', 'golden', 'golden_ratio', 'grain', 'gram', 'gravitational_constant', 'h', 'hbar', 'hectare', 'hecto', 'horsepower', 'hour', 'hp', 'inch', 'k', 'kgf', 'kibi', 'kilo', 'kilogram_force', 'kmh', 'knot', 'lambda2nu', 'lb', 'lbf', 'light_year', 'liter', 'litre', 'long_ton', 'm_e', 'm_n', 'm_p', 'm_u', 'mach', 'mebi', 'mega', 'metric_ton', 'micro', 'micron', 'mil', 'mile', 'milli', 'minute', 'mmHg', 'mph', 'mu_0', 'nano', 'nautical_mile', 'neutron_mass', 'nu2lambda', 'ounce', 'oz', 'parsec', 'pebi', 'peta', 'physical_constants', 'pi', 'pico', 'point', 'pound', 'pound_force', 'precision', 'proton_mass', 'psi', 'pt', 'short_ton', 'sigma', 'slinch', 'slug', 'speed_of_light', 'speed_of_sound', 'stone', 'survey_foot', 'survey_mile', 'tebi', 'tera', 'test', 'ton_TNT', 'torr', 'troy_ounce', 'troy_pound', 'u', 'unit', 'value', 'week', 'yard', 'year', 'yobi', 'yocto', 'yotta', 'zebi', 'zepto', 'zero_Celsius', 'zetta']\n"
     ]
    }
   ],
   "source": [
    "print(dir(constants))"
   ]
  },
  {
   "cell_type": "markdown",
   "id": "47cdff9f",
   "metadata": {},
   "source": [
    "### Unit Categories\n",
    "The units are placed under these categories:\n",
    "●      Metric \n",
    "●      Binary\n",
    "●      Mass\n",
    "●      Angle\n",
    "●      Time\n",
    "●      Length\n",
    "●      Pressure\n",
    "●      Volume\n",
    "●      Speed\n",
    "●      Temperature\n",
    "●      Energy\n",
    "●      Power\n",
    "●      Force"
   ]
  },
  {
   "cell_type": "markdown",
   "id": "863281d5",
   "metadata": {},
   "source": [
    "### Metric (SI) Prefixes:\n",
    "Return the specified unit in meter (e.g. cent i returns 0.0 1 )"
   ]
  },
  {
   "cell_type": "code",
   "execution_count": 4,
   "id": "e8fcf94d",
   "metadata": {},
   "outputs": [
    {
     "data": {
      "text/plain": [
       "1e+24"
      ]
     },
     "execution_count": 4,
     "metadata": {},
     "output_type": "execute_result"
    }
   ],
   "source": [
    "constants.yotta"
   ]
  },
  {
   "cell_type": "code",
   "execution_count": 5,
   "id": "5ae822c3",
   "metadata": {},
   "outputs": [
    {
     "data": {
      "text/plain": [
       "1000000000000000.0"
      ]
     },
     "execution_count": 5,
     "metadata": {},
     "output_type": "execute_result"
    }
   ],
   "source": [
    "constants.peta"
   ]
  },
  {
   "cell_type": "code",
   "execution_count": 6,
   "id": "746ebb29",
   "metadata": {},
   "outputs": [
    {
     "data": {
      "text/plain": [
       "1000000.0"
      ]
     },
     "execution_count": 6,
     "metadata": {},
     "output_type": "execute_result"
    }
   ],
   "source": [
    "constants.mega"
   ]
  },
  {
   "cell_type": "code",
   "execution_count": 7,
   "id": "d6f8aff9",
   "metadata": {},
   "outputs": [
    {
     "data": {
      "text/plain": [
       "1000000000000.0"
      ]
     },
     "execution_count": 7,
     "metadata": {},
     "output_type": "execute_result"
    }
   ],
   "source": [
    "constants.tera"
   ]
  },
  {
   "cell_type": "code",
   "execution_count": 8,
   "id": "d25a7919",
   "metadata": {},
   "outputs": [
    {
     "data": {
      "text/plain": [
       "1000000000.0"
      ]
     },
     "execution_count": 8,
     "metadata": {},
     "output_type": "execute_result"
    }
   ],
   "source": [
    "constants.giga"
   ]
  },
  {
   "cell_type": "code",
   "execution_count": 9,
   "id": "22cb1f0b",
   "metadata": {},
   "outputs": [
    {
     "data": {
      "text/plain": [
       "1000.0"
      ]
     },
     "execution_count": 9,
     "metadata": {},
     "output_type": "execute_result"
    }
   ],
   "source": [
    "constants.kilo"
   ]
  },
  {
   "cell_type": "code",
   "execution_count": 10,
   "id": "5bd757c9",
   "metadata": {},
   "outputs": [
    {
     "data": {
      "text/plain": [
       "1e-12"
      ]
     },
     "execution_count": 10,
     "metadata": {},
     "output_type": "execute_result"
    }
   ],
   "source": [
    "constants.pico"
   ]
  },
  {
   "cell_type": "code",
   "execution_count": 11,
   "id": "78e38754",
   "metadata": {},
   "outputs": [
    {
     "data": {
      "text/plain": [
       "0.001"
      ]
     },
     "execution_count": 11,
     "metadata": {},
     "output_type": "execute_result"
    }
   ],
   "source": [
    "constants.milli"
   ]
  },
  {
   "cell_type": "code",
   "execution_count": 12,
   "id": "86c87968",
   "metadata": {},
   "outputs": [
    {
     "data": {
      "text/plain": [
       "1e-06"
      ]
     },
     "execution_count": 12,
     "metadata": {},
     "output_type": "execute_result"
    }
   ],
   "source": [
    "constants.micro"
   ]
  },
  {
   "cell_type": "markdown",
   "id": "6899b3c4",
   "metadata": {},
   "source": [
    "### Binary Prefixes:\n",
    "Return the specified unit in bytes (e.g. kibi returns 1024 )"
   ]
  },
  {
   "cell_type": "code",
   "execution_count": 13,
   "id": "d3ca4828",
   "metadata": {},
   "outputs": [
    {
     "data": {
      "text/plain": [
       "1024"
      ]
     },
     "execution_count": 13,
     "metadata": {},
     "output_type": "execute_result"
    }
   ],
   "source": [
    "constants.kibi"
   ]
  },
  {
   "cell_type": "code",
   "execution_count": 14,
   "id": "4b0e6229",
   "metadata": {},
   "outputs": [
    {
     "data": {
      "text/plain": [
       "1048576"
      ]
     },
     "execution_count": 14,
     "metadata": {},
     "output_type": "execute_result"
    }
   ],
   "source": [
    "constants.mebi"
   ]
  },
  {
   "cell_type": "code",
   "execution_count": 15,
   "id": "fc7bb276",
   "metadata": {},
   "outputs": [
    {
     "data": {
      "text/plain": [
       "1073741824"
      ]
     },
     "execution_count": 15,
     "metadata": {},
     "output_type": "execute_result"
    }
   ],
   "source": [
    "constants.gibi"
   ]
  },
  {
   "cell_type": "code",
   "execution_count": 16,
   "id": "72a3025b",
   "metadata": {},
   "outputs": [
    {
     "data": {
      "text/plain": [
       "1099511627776"
      ]
     },
     "execution_count": 16,
     "metadata": {},
     "output_type": "execute_result"
    }
   ],
   "source": [
    "constants.tebi"
   ]
  },
  {
   "cell_type": "code",
   "execution_count": 17,
   "id": "c06fddcc",
   "metadata": {},
   "outputs": [
    {
     "data": {
      "text/plain": [
       "1125899906842624"
      ]
     },
     "execution_count": 17,
     "metadata": {},
     "output_type": "execute_result"
    }
   ],
   "source": [
    "constants.pebi"
   ]
  },
  {
   "cell_type": "code",
   "execution_count": 18,
   "id": "ff698cd8",
   "metadata": {},
   "outputs": [
    {
     "data": {
      "text/plain": [
       "1152921504606846976"
      ]
     },
     "execution_count": 18,
     "metadata": {},
     "output_type": "execute_result"
    }
   ],
   "source": [
    "constants.exbi"
   ]
  },
  {
   "cell_type": "code",
   "execution_count": 19,
   "id": "ab0c5401",
   "metadata": {},
   "outputs": [
    {
     "data": {
      "text/plain": [
       "1180591620717411303424"
      ]
     },
     "execution_count": 19,
     "metadata": {},
     "output_type": "execute_result"
    }
   ],
   "source": [
    "constants.zebi"
   ]
  },
  {
   "cell_type": "code",
   "execution_count": 20,
   "id": "f1124771",
   "metadata": {},
   "outputs": [
    {
     "data": {
      "text/plain": [
       "1208925819614629174706176"
      ]
     },
     "execution_count": 20,
     "metadata": {},
     "output_type": "execute_result"
    }
   ],
   "source": [
    "constants.yobi"
   ]
  },
  {
   "cell_type": "markdown",
   "id": "2369839c",
   "metadata": {},
   "source": [
    "### Mass:\n",
    "Return the specified unit in kg (e.g. gram returns 0.001 )"
   ]
  },
  {
   "cell_type": "code",
   "execution_count": 21,
   "id": "0d242c76",
   "metadata": {},
   "outputs": [
    {
     "data": {
      "text/plain": [
       "0.001"
      ]
     },
     "execution_count": 21,
     "metadata": {},
     "output_type": "execute_result"
    }
   ],
   "source": [
    "constants.gram"
   ]
  },
  {
   "cell_type": "code",
   "execution_count": 22,
   "id": "a74eac7a",
   "metadata": {},
   "outputs": [
    {
     "data": {
      "text/plain": [
       "1000.0"
      ]
     },
     "execution_count": 22,
     "metadata": {},
     "output_type": "execute_result"
    }
   ],
   "source": [
    "constants.metric_ton"
   ]
  },
  {
   "cell_type": "code",
   "execution_count": 23,
   "id": "06767869",
   "metadata": {},
   "outputs": [
    {
     "data": {
      "text/plain": [
       "6.479891e-05"
      ]
     },
     "execution_count": 23,
     "metadata": {},
     "output_type": "execute_result"
    }
   ],
   "source": [
    "constants.grain"
   ]
  },
  {
   "cell_type": "code",
   "execution_count": 24,
   "id": "a096a326",
   "metadata": {},
   "outputs": [
    {
     "name": "stdout",
     "output_type": "stream",
     "text": [
      "0.45359236999999997\n"
     ]
    }
   ],
   "source": [
    "print (constants.lb)          "
   ]
  },
  {
   "cell_type": "code",
   "execution_count": 25,
   "id": "cae22ef2",
   "metadata": {},
   "outputs": [
    {
     "name": "stdout",
     "output_type": "stream",
     "text": [
      "0.45359236999999997\n"
     ]
    }
   ],
   "source": [
    "print (constants.pound)   "
   ]
  },
  {
   "cell_type": "code",
   "execution_count": 26,
   "id": "a98a07bf",
   "metadata": {},
   "outputs": [
    {
     "name": "stdout",
     "output_type": "stream",
     "text": [
      "0.028349523124999998\n"
     ]
    }
   ],
   "source": [
    "print (constants.oz)         "
   ]
  },
  {
   "cell_type": "code",
   "execution_count": 27,
   "id": "b6a8db60",
   "metadata": {},
   "outputs": [
    {
     "name": "stdout",
     "output_type": "stream",
     "text": [
      "0.028349523124999998\n"
     ]
    }
   ],
   "source": [
    "print (constants.ounce)      "
   ]
  },
  {
   "cell_type": "code",
   "execution_count": 28,
   "id": "23ba7243",
   "metadata": {},
   "outputs": [
    {
     "name": "stdout",
     "output_type": "stream",
     "text": [
      "6.3502931799999995\n"
     ]
    }
   ],
   "source": [
    "print (constants.stone)       "
   ]
  },
  {
   "cell_type": "code",
   "execution_count": 29,
   "id": "4d68b549",
   "metadata": {},
   "outputs": [
    {
     "name": "stdout",
     "output_type": "stream",
     "text": [
      "1016.0469088\n"
     ]
    }
   ],
   "source": [
    "print (constants.long_ton)    "
   ]
  },
  {
   "cell_type": "code",
   "execution_count": 30,
   "id": "0cdcbf52",
   "metadata": {},
   "outputs": [
    {
     "name": "stdout",
     "output_type": "stream",
     "text": [
      "907.1847399999999\n"
     ]
    }
   ],
   "source": [
    "print (constants.short_ton)   "
   ]
  },
  {
   "cell_type": "code",
   "execution_count": 31,
   "id": "706bce45",
   "metadata": {},
   "outputs": [
    {
     "name": "stdout",
     "output_type": "stream",
     "text": [
      "0.031103476799999998\n"
     ]
    }
   ],
   "source": [
    "print (constants.troy_ounce)  "
   ]
  },
  {
   "cell_type": "code",
   "execution_count": 32,
   "id": "af55e784",
   "metadata": {},
   "outputs": [
    {
     "name": "stdout",
     "output_type": "stream",
     "text": [
      "0.37324172159999996\n"
     ]
    }
   ],
   "source": [
    "print (constants.troy_pound)  "
   ]
  },
  {
   "cell_type": "code",
   "execution_count": 33,
   "id": "68faa58b",
   "metadata": {},
   "outputs": [
    {
     "name": "stdout",
     "output_type": "stream",
     "text": [
      "0.0002\n"
     ]
    }
   ],
   "source": [
    "print (constants.carat)  "
   ]
  },
  {
   "cell_type": "code",
   "execution_count": 34,
   "id": "831f81af",
   "metadata": {},
   "outputs": [
    {
     "name": "stdout",
     "output_type": "stream",
     "text": [
      "1.6605390666e-27\n"
     ]
    }
   ],
   "source": [
    "print (constants.atomic_mass)"
   ]
  },
  {
   "cell_type": "code",
   "execution_count": 35,
   "id": "dde134f2",
   "metadata": {},
   "outputs": [
    {
     "name": "stdout",
     "output_type": "stream",
     "text": [
      "1.6605390666e-27\n"
     ]
    }
   ],
   "source": [
    "print (constants.m_u)         "
   ]
  },
  {
   "cell_type": "code",
   "execution_count": 36,
   "id": "ca5715d9",
   "metadata": {},
   "outputs": [
    {
     "name": "stdout",
     "output_type": "stream",
     "text": [
      "1.6605390666e-27\n"
     ]
    }
   ],
   "source": [
    "print (constants.u)         "
   ]
  },
  {
   "cell_type": "markdown",
   "id": "af80fb5f",
   "metadata": {},
   "source": [
    "### Angle:\n",
    "Return the specified unit in radians (e.g. degre e returns 0.01745329251994329 5 )"
   ]
  },
  {
   "cell_type": "code",
   "execution_count": 37,
   "id": "487952c5",
   "metadata": {},
   "outputs": [
    {
     "data": {
      "text/plain": [
       "0.017453292519943295"
      ]
     },
     "execution_count": 37,
     "metadata": {},
     "output_type": "execute_result"
    }
   ],
   "source": [
    "constants.degree"
   ]
  },
  {
   "cell_type": "code",
   "execution_count": 38,
   "id": "016318ec",
   "metadata": {},
   "outputs": [
    {
     "data": {
      "text/plain": [
       "0.0002908882086657216"
      ]
     },
     "execution_count": 38,
     "metadata": {},
     "output_type": "execute_result"
    }
   ],
   "source": [
    "constants.arcmin"
   ]
  },
  {
   "cell_type": "code",
   "execution_count": 39,
   "id": "e4434d18",
   "metadata": {},
   "outputs": [
    {
     "data": {
      "text/plain": [
       "0.0002908882086657216"
      ]
     },
     "execution_count": 39,
     "metadata": {},
     "output_type": "execute_result"
    }
   ],
   "source": [
    "constants.arcminute"
   ]
  },
  {
   "cell_type": "code",
   "execution_count": 40,
   "id": "514219e0",
   "metadata": {},
   "outputs": [
    {
     "data": {
      "text/plain": [
       "4.84813681109536e-06"
      ]
     },
     "execution_count": 40,
     "metadata": {},
     "output_type": "execute_result"
    }
   ],
   "source": [
    "constants.arcsecond"
   ]
  },
  {
   "cell_type": "code",
   "execution_count": 41,
   "id": "f632279a",
   "metadata": {},
   "outputs": [
    {
     "data": {
      "text/plain": [
       "4.84813681109536e-06"
      ]
     },
     "execution_count": 41,
     "metadata": {},
     "output_type": "execute_result"
    }
   ],
   "source": [
    "constants.arcsec"
   ]
  },
  {
   "cell_type": "markdown",
   "id": "5a82c0c9",
   "metadata": {},
   "source": [
    "### Time:\n",
    "Return the specified unit in seconds (e.g. hou r returns 3600. 0 )"
   ]
  },
  {
   "cell_type": "code",
   "execution_count": 42,
   "id": "66c18760",
   "metadata": {},
   "outputs": [
    {
     "data": {
      "text/plain": [
       "60.0"
      ]
     },
     "execution_count": 42,
     "metadata": {},
     "output_type": "execute_result"
    }
   ],
   "source": [
    "constants.minute"
   ]
  },
  {
   "cell_type": "code",
   "execution_count": 43,
   "id": "91ba7238",
   "metadata": {},
   "outputs": [
    {
     "data": {
      "text/plain": [
       "3600.0"
      ]
     },
     "execution_count": 43,
     "metadata": {},
     "output_type": "execute_result"
    }
   ],
   "source": [
    "constants.hour"
   ]
  },
  {
   "cell_type": "code",
   "execution_count": 44,
   "id": "4e098ffa",
   "metadata": {},
   "outputs": [
    {
     "data": {
      "text/plain": [
       "604800.0"
      ]
     },
     "execution_count": 44,
     "metadata": {},
     "output_type": "execute_result"
    }
   ],
   "source": [
    "constants.week"
   ]
  },
  {
   "cell_type": "code",
   "execution_count": 45,
   "id": "0982e837",
   "metadata": {},
   "outputs": [
    {
     "data": {
      "text/plain": [
       "86400.0"
      ]
     },
     "execution_count": 45,
     "metadata": {},
     "output_type": "execute_result"
    }
   ],
   "source": [
    "constants.day"
   ]
  },
  {
   "cell_type": "code",
   "execution_count": 46,
   "id": "31e6c9bb",
   "metadata": {},
   "outputs": [
    {
     "data": {
      "text/plain": [
       "31536000.0"
      ]
     },
     "execution_count": 46,
     "metadata": {},
     "output_type": "execute_result"
    }
   ],
   "source": [
    "constants.year"
   ]
  },
  {
   "cell_type": "code",
   "execution_count": 47,
   "id": "0e06fbcc",
   "metadata": {},
   "outputs": [
    {
     "data": {
      "text/plain": [
       "31557600.0"
      ]
     },
     "execution_count": 47,
     "metadata": {},
     "output_type": "execute_result"
    }
   ],
   "source": [
    "constants.Julian_year"
   ]
  },
  {
   "cell_type": "markdown",
   "id": "c862e8b0",
   "metadata": {},
   "source": [
    "Currently, the Julian calendar is 13 days behind the Gregorian calendar. So, to convert from the Julian calendar to the Gregorian calendar, add 13 days; to convert in the opposite direction, subtract 13 days. The gap between the two calendar systems will increase to 14 days in the year 2100.m"
   ]
  },
  {
   "cell_type": "markdown",
   "id": "70c4cc96",
   "metadata": {},
   "source": [
    "### Length:\n",
    "Return the specified unit in meters (e.g. nautical_mile returns 1852.0 )"
   ]
  },
  {
   "cell_type": "code",
   "execution_count": 48,
   "id": "693861fa",
   "metadata": {},
   "outputs": [
    {
     "data": {
      "text/plain": [
       "0.0254"
      ]
     },
     "execution_count": 48,
     "metadata": {},
     "output_type": "execute_result"
    }
   ],
   "source": [
    "constants.inch"
   ]
  },
  {
   "cell_type": "code",
   "execution_count": 49,
   "id": "df688016",
   "metadata": {},
   "outputs": [
    {
     "data": {
      "text/plain": [
       "0.30479999999999996"
      ]
     },
     "execution_count": 49,
     "metadata": {},
     "output_type": "execute_result"
    }
   ],
   "source": [
    "constants.foot"
   ]
  },
  {
   "cell_type": "code",
   "execution_count": 50,
   "id": "aefdea10",
   "metadata": {},
   "outputs": [
    {
     "data": {
      "text/plain": [
       "0.9143999999999999"
      ]
     },
     "execution_count": 50,
     "metadata": {},
     "output_type": "execute_result"
    }
   ],
   "source": [
    "constants.yard"
   ]
  },
  {
   "cell_type": "code",
   "execution_count": 51,
   "id": "3284993a",
   "metadata": {},
   "outputs": [
    {
     "data": {
      "text/plain": [
       "1609.3439999999998"
      ]
     },
     "execution_count": 51,
     "metadata": {},
     "output_type": "execute_result"
    }
   ],
   "source": [
    "constants.mile"
   ]
  },
  {
   "cell_type": "code",
   "execution_count": 52,
   "id": "912fd81a",
   "metadata": {},
   "outputs": [
    {
     "data": {
      "text/plain": [
       "2.5399999999999997e-05"
      ]
     },
     "execution_count": 52,
     "metadata": {},
     "output_type": "execute_result"
    }
   ],
   "source": [
    "constants.mil"
   ]
  },
  {
   "cell_type": "code",
   "execution_count": 53,
   "id": "4ffdaa78",
   "metadata": {},
   "outputs": [
    {
     "data": {
      "text/plain": [
       "0.00035277777777777776"
      ]
     },
     "execution_count": 53,
     "metadata": {},
     "output_type": "execute_result"
    }
   ],
   "source": [
    "constants.pt"
   ]
  },
  {
   "cell_type": "code",
   "execution_count": 54,
   "id": "d00de0c6",
   "metadata": {},
   "outputs": [
    {
     "data": {
      "text/plain": [
       "0.00035277777777777776"
      ]
     },
     "execution_count": 54,
     "metadata": {},
     "output_type": "execute_result"
    }
   ],
   "source": [
    "constants.point"
   ]
  },
  {
   "cell_type": "code",
   "execution_count": 55,
   "id": "1941b7fd",
   "metadata": {},
   "outputs": [
    {
     "data": {
      "text/plain": [
       "0.3048006096012192"
      ]
     },
     "execution_count": 55,
     "metadata": {},
     "output_type": "execute_result"
    }
   ],
   "source": [
    "constants.survey_foot"
   ]
  },
  {
   "cell_type": "code",
   "execution_count": 56,
   "id": "7380665f",
   "metadata": {},
   "outputs": [
    {
     "data": {
      "text/plain": [
       "1609.3472186944373"
      ]
     },
     "execution_count": 56,
     "metadata": {},
     "output_type": "execute_result"
    }
   ],
   "source": [
    "constants.survey_mile"
   ]
  },
  {
   "cell_type": "code",
   "execution_count": 57,
   "id": "48e8f668",
   "metadata": {},
   "outputs": [
    {
     "data": {
      "text/plain": [
       "1852.0"
      ]
     },
     "execution_count": 57,
     "metadata": {},
     "output_type": "execute_result"
    }
   ],
   "source": [
    "constants.nautical_mile"
   ]
  },
  {
   "cell_type": "code",
   "execution_count": 58,
   "id": "07e20e06",
   "metadata": {},
   "outputs": [
    {
     "data": {
      "text/plain": [
       "1e-15"
      ]
     },
     "execution_count": 58,
     "metadata": {},
     "output_type": "execute_result"
    }
   ],
   "source": [
    "constants.fermi"
   ]
  },
  {
   "cell_type": "code",
   "execution_count": 59,
   "id": "b48cd782",
   "metadata": {},
   "outputs": [
    {
     "data": {
      "text/plain": [
       "1e-10"
      ]
     },
     "execution_count": 59,
     "metadata": {},
     "output_type": "execute_result"
    }
   ],
   "source": [
    "constants.angstrom"
   ]
  },
  {
   "cell_type": "code",
   "execution_count": 60,
   "id": "ba8c28f2",
   "metadata": {},
   "outputs": [
    {
     "data": {
      "text/plain": [
       "1e-06"
      ]
     },
     "execution_count": 60,
     "metadata": {},
     "output_type": "execute_result"
    }
   ],
   "source": [
    "constants.micron"
   ]
  },
  {
   "cell_type": "code",
   "execution_count": 61,
   "id": "fad62ae4",
   "metadata": {},
   "outputs": [
    {
     "data": {
      "text/plain": [
       "149597870700.0"
      ]
     },
     "execution_count": 61,
     "metadata": {},
     "output_type": "execute_result"
    }
   ],
   "source": [
    "constants.au"
   ]
  },
  {
   "cell_type": "code",
   "execution_count": 62,
   "id": "6a4219f7",
   "metadata": {},
   "outputs": [
    {
     "data": {
      "text/plain": [
       "149597870700.0"
      ]
     },
     "execution_count": 62,
     "metadata": {},
     "output_type": "execute_result"
    }
   ],
   "source": [
    "constants.astronomical_unit"
   ]
  },
  {
   "cell_type": "code",
   "execution_count": 63,
   "id": "0ea17017",
   "metadata": {},
   "outputs": [
    {
     "data": {
      "text/plain": [
       "9460730472580800.0"
      ]
     },
     "execution_count": 63,
     "metadata": {},
     "output_type": "execute_result"
    }
   ],
   "source": [
    "constants.light_year"
   ]
  },
  {
   "cell_type": "code",
   "execution_count": 64,
   "id": "0ebd2000",
   "metadata": {},
   "outputs": [
    {
     "data": {
      "text/plain": [
       "3.085677581491367e+16"
      ]
     },
     "execution_count": 64,
     "metadata": {},
     "output_type": "execute_result"
    }
   ],
   "source": [
    "constants.parsec"
   ]
  },
  {
   "cell_type": "markdown",
   "id": "867d2c2c",
   "metadata": {},
   "source": [
    "### Pressure:\n",
    "Return the specified unit in pascals (e.g. psi returns 6894.757293168361)"
   ]
  },
  {
   "cell_type": "code",
   "execution_count": 65,
   "id": "bee48b0a",
   "metadata": {},
   "outputs": [
    {
     "data": {
      "text/plain": [
       "101325.0"
      ]
     },
     "execution_count": 65,
     "metadata": {},
     "output_type": "execute_result"
    }
   ],
   "source": [
    "constants.atm"
   ]
  },
  {
   "cell_type": "code",
   "execution_count": 66,
   "id": "ee2db40d",
   "metadata": {},
   "outputs": [
    {
     "data": {
      "text/plain": [
       "101325.0"
      ]
     },
     "execution_count": 66,
     "metadata": {},
     "output_type": "execute_result"
    }
   ],
   "source": [
    "constants.atmosphere"
   ]
  },
  {
   "cell_type": "code",
   "execution_count": 67,
   "id": "fcac5ce9",
   "metadata": {},
   "outputs": [
    {
     "data": {
      "text/plain": [
       "100000.0"
      ]
     },
     "execution_count": 67,
     "metadata": {},
     "output_type": "execute_result"
    }
   ],
   "source": [
    "constants.bar"
   ]
  },
  {
   "cell_type": "code",
   "execution_count": 68,
   "id": "42eb4e02",
   "metadata": {},
   "outputs": [
    {
     "data": {
      "text/plain": [
       "133.32236842105263"
      ]
     },
     "execution_count": 68,
     "metadata": {},
     "output_type": "execute_result"
    }
   ],
   "source": [
    "constants.torr"
   ]
  },
  {
   "cell_type": "code",
   "execution_count": 69,
   "id": "ccb0a23c",
   "metadata": {},
   "outputs": [
    {
     "data": {
      "text/plain": [
       "133.32236842105263"
      ]
     },
     "execution_count": 69,
     "metadata": {},
     "output_type": "execute_result"
    }
   ],
   "source": [
    "constants.mmHg"
   ]
  },
  {
   "cell_type": "code",
   "execution_count": 70,
   "id": "61d5e03f",
   "metadata": {},
   "outputs": [
    {
     "data": {
      "text/plain": [
       "6894.757293168361"
      ]
     },
     "execution_count": 70,
     "metadata": {},
     "output_type": "execute_result"
    }
   ],
   "source": [
    "constants.psi"
   ]
  },
  {
   "cell_type": "markdown",
   "id": "6f6be084",
   "metadata": {},
   "source": [
    "### Area:\n",
    "Return the specified unit in square meters(e.g. hectare returns 10000.0 )"
   ]
  },
  {
   "cell_type": "code",
   "execution_count": 71,
   "id": "a993f3b6",
   "metadata": {},
   "outputs": [
    {
     "data": {
      "text/plain": [
       "10000.0"
      ]
     },
     "execution_count": 71,
     "metadata": {},
     "output_type": "execute_result"
    }
   ],
   "source": [
    "constants.hectare"
   ]
  },
  {
   "cell_type": "code",
   "execution_count": 72,
   "id": "98baeb5f",
   "metadata": {},
   "outputs": [
    {
     "data": {
      "text/plain": [
       "4046.8564223999992"
      ]
     },
     "execution_count": 72,
     "metadata": {},
     "output_type": "execute_result"
    }
   ],
   "source": [
    "constants.acre"
   ]
  },
  {
   "cell_type": "markdown",
   "id": "be677fb8",
   "metadata": {},
   "source": [
    "### Volume:\n",
    "Return the specified unit in cubic meters (e.g. lite r returns 0.00 1 )"
   ]
  },
  {
   "cell_type": "code",
   "execution_count": 73,
   "id": "8ab4139f",
   "metadata": {},
   "outputs": [
    {
     "data": {
      "text/plain": [
       "0.001"
      ]
     },
     "execution_count": 73,
     "metadata": {},
     "output_type": "execute_result"
    }
   ],
   "source": [
    "constants.liter"
   ]
  },
  {
   "cell_type": "code",
   "execution_count": 74,
   "id": "ae76f0c8",
   "metadata": {},
   "outputs": [
    {
     "data": {
      "text/plain": [
       "0.001"
      ]
     },
     "execution_count": 74,
     "metadata": {},
     "output_type": "execute_result"
    }
   ],
   "source": [
    "constants.litre"
   ]
  },
  {
   "cell_type": "code",
   "execution_count": 75,
   "id": "71437556",
   "metadata": {},
   "outputs": [
    {
     "data": {
      "text/plain": [
       "0.0037854117839999997"
      ]
     },
     "execution_count": 75,
     "metadata": {},
     "output_type": "execute_result"
    }
   ],
   "source": [
    "constants.gallon"
   ]
  },
  {
   "cell_type": "code",
   "execution_count": 76,
   "id": "46b20bd5",
   "metadata": {},
   "outputs": [
    {
     "data": {
      "text/plain": [
       "0.00454609"
      ]
     },
     "execution_count": 76,
     "metadata": {},
     "output_type": "execute_result"
    }
   ],
   "source": [
    "constants.gallon_imp"
   ]
  },
  {
   "cell_type": "code",
   "execution_count": 77,
   "id": "49cbf2ac",
   "metadata": {},
   "outputs": [
    {
     "data": {
      "text/plain": [
       "0.0037854117839999997"
      ]
     },
     "execution_count": 77,
     "metadata": {},
     "output_type": "execute_result"
    }
   ],
   "source": [
    "constants.gallon_US"
   ]
  },
  {
   "cell_type": "code",
   "execution_count": 78,
   "id": "9c1556d5",
   "metadata": {},
   "outputs": [
    {
     "data": {
      "text/plain": [
       "2.9573529562499998e-05"
      ]
     },
     "execution_count": 78,
     "metadata": {},
     "output_type": "execute_result"
    }
   ],
   "source": [
    "constants.fluid_ounce"
   ]
  },
  {
   "cell_type": "code",
   "execution_count": 79,
   "id": "2b8c2a59",
   "metadata": {},
   "outputs": [
    {
     "data": {
      "text/plain": [
       "2.84130625e-05"
      ]
     },
     "execution_count": 79,
     "metadata": {},
     "output_type": "execute_result"
    }
   ],
   "source": [
    "constants.fluid_ounce_imp"
   ]
  },
  {
   "cell_type": "code",
   "execution_count": 80,
   "id": "7501ab4a",
   "metadata": {},
   "outputs": [
    {
     "data": {
      "text/plain": [
       "2.9573529562499998e-05"
      ]
     },
     "execution_count": 80,
     "metadata": {},
     "output_type": "execute_result"
    }
   ],
   "source": [
    "constants.fluid_ounce_US"
   ]
  },
  {
   "cell_type": "code",
   "execution_count": 81,
   "id": "794fc6a6",
   "metadata": {},
   "outputs": [
    {
     "data": {
      "text/plain": [
       "0.15898729492799998"
      ]
     },
     "execution_count": 81,
     "metadata": {},
     "output_type": "execute_result"
    }
   ],
   "source": [
    "constants.barrel"
   ]
  },
  {
   "cell_type": "code",
   "execution_count": 82,
   "id": "a0f4a3f9",
   "metadata": {},
   "outputs": [
    {
     "data": {
      "text/plain": [
       "0.15898729492799998"
      ]
     },
     "execution_count": 82,
     "metadata": {},
     "output_type": "execute_result"
    }
   ],
   "source": [
    "constants.bbl"
   ]
  },
  {
   "cell_type": "markdown",
   "id": "ac71d7a5",
   "metadata": {},
   "source": [
    "### Speed:\n",
    "Return the specified unit in meters per second (e.g. speed_of_sound returns 340.5)"
   ]
  },
  {
   "cell_type": "code",
   "execution_count": 83,
   "id": "b3647b25",
   "metadata": {},
   "outputs": [
    {
     "data": {
      "text/plain": [
       "0.2777777777777778"
      ]
     },
     "execution_count": 83,
     "metadata": {},
     "output_type": "execute_result"
    }
   ],
   "source": [
    "constants.kmh"
   ]
  },
  {
   "cell_type": "code",
   "execution_count": 84,
   "id": "584c4a66",
   "metadata": {},
   "outputs": [
    {
     "data": {
      "text/plain": [
       "0.44703999999999994"
      ]
     },
     "execution_count": 84,
     "metadata": {},
     "output_type": "execute_result"
    }
   ],
   "source": [
    "constants.mph"
   ]
  },
  {
   "cell_type": "code",
   "execution_count": 85,
   "id": "c9324d72",
   "metadata": {},
   "outputs": [
    {
     "data": {
      "text/plain": [
       "340.5"
      ]
     },
     "execution_count": 85,
     "metadata": {},
     "output_type": "execute_result"
    }
   ],
   "source": [
    "constants.mach"
   ]
  },
  {
   "cell_type": "code",
   "execution_count": 86,
   "id": "8322401b",
   "metadata": {},
   "outputs": [
    {
     "data": {
      "text/plain": [
       "340.5"
      ]
     },
     "execution_count": 86,
     "metadata": {},
     "output_type": "execute_result"
    }
   ],
   "source": [
    "constants.speed_of_sound"
   ]
  },
  {
   "cell_type": "code",
   "execution_count": 87,
   "id": "d2ec1f01",
   "metadata": {},
   "outputs": [
    {
     "data": {
      "text/plain": [
       "0.5144444444444445"
      ]
     },
     "execution_count": 87,
     "metadata": {},
     "output_type": "execute_result"
    }
   ],
   "source": [
    "constants.knot"
   ]
  },
  {
   "cell_type": "markdown",
   "id": "6da4c0e9",
   "metadata": {},
   "source": [
    "### Temperature:\n",
    "Return the specified unit in Kelvin (e.g. zero_Celsiu s returns 273.15)"
   ]
  },
  {
   "cell_type": "code",
   "execution_count": 88,
   "id": "2da70a88",
   "metadata": {},
   "outputs": [
    {
     "data": {
      "text/plain": [
       "273.15"
      ]
     },
     "execution_count": 88,
     "metadata": {},
     "output_type": "execute_result"
    }
   ],
   "source": [
    "constants.zero_Celsius"
   ]
  },
  {
   "cell_type": "code",
   "execution_count": 89,
   "id": "f490032e",
   "metadata": {},
   "outputs": [
    {
     "data": {
      "text/plain": [
       "0.5555555555555556"
      ]
     },
     "execution_count": 89,
     "metadata": {},
     "output_type": "execute_result"
    }
   ],
   "source": [
    "constants.degree_Fahrenheit"
   ]
  },
  {
   "cell_type": "markdown",
   "id": "5651de34",
   "metadata": {},
   "source": [
    "### Energy:\n",
    "Return the specified unit in joules (e.g. calori e returns 4.18 4 )"
   ]
  },
  {
   "cell_type": "code",
   "execution_count": 90,
   "id": "d3b075f7",
   "metadata": {},
   "outputs": [
    {
     "data": {
      "text/plain": [
       "1.602176634e-19"
      ]
     },
     "execution_count": 90,
     "metadata": {},
     "output_type": "execute_result"
    }
   ],
   "source": [
    "constants.eV"
   ]
  },
  {
   "cell_type": "code",
   "execution_count": 91,
   "id": "8ba89999",
   "metadata": {},
   "outputs": [
    {
     "data": {
      "text/plain": [
       "1.602176634e-19"
      ]
     },
     "execution_count": 91,
     "metadata": {},
     "output_type": "execute_result"
    }
   ],
   "source": [
    "constants.electron_volt"
   ]
  },
  {
   "cell_type": "code",
   "execution_count": 92,
   "id": "3e21ff6e",
   "metadata": {},
   "outputs": [
    {
     "data": {
      "text/plain": [
       "4.184"
      ]
     },
     "execution_count": 92,
     "metadata": {},
     "output_type": "execute_result"
    }
   ],
   "source": [
    "constants.calorie"
   ]
  },
  {
   "cell_type": "code",
   "execution_count": 93,
   "id": "5ccc75df",
   "metadata": {},
   "outputs": [
    {
     "data": {
      "text/plain": [
       "4.184"
      ]
     },
     "execution_count": 93,
     "metadata": {},
     "output_type": "execute_result"
    }
   ],
   "source": [
    "constants.calorie_th"
   ]
  },
  {
   "cell_type": "code",
   "execution_count": 94,
   "id": "70db26e5",
   "metadata": {},
   "outputs": [
    {
     "data": {
      "text/plain": [
       "1e-07"
      ]
     },
     "execution_count": 94,
     "metadata": {},
     "output_type": "execute_result"
    }
   ],
   "source": [
    "constants.erg"
   ]
  },
  {
   "cell_type": "code",
   "execution_count": 95,
   "id": "5ef3d2ba",
   "metadata": {},
   "outputs": [
    {
     "data": {
      "text/plain": [
       "1055.05585262"
      ]
     },
     "execution_count": 95,
     "metadata": {},
     "output_type": "execute_result"
    }
   ],
   "source": [
    "constants.Btu"
   ]
  },
  {
   "cell_type": "code",
   "execution_count": 96,
   "id": "ce87b202",
   "metadata": {},
   "outputs": [
    {
     "data": {
      "text/plain": [
       "1055.05585262"
      ]
     },
     "execution_count": 96,
     "metadata": {},
     "output_type": "execute_result"
    }
   ],
   "source": [
    "constants.Btu_IT"
   ]
  },
  {
   "cell_type": "code",
   "execution_count": 97,
   "id": "b77467c1",
   "metadata": {},
   "outputs": [
    {
     "data": {
      "text/plain": [
       "1054.3502644888888"
      ]
     },
     "execution_count": 97,
     "metadata": {},
     "output_type": "execute_result"
    }
   ],
   "source": [
    "constants.Btu_th"
   ]
  },
  {
   "cell_type": "code",
   "execution_count": 98,
   "id": "de96e9ef",
   "metadata": {},
   "outputs": [
    {
     "data": {
      "text/plain": [
       "4184000000.0"
      ]
     },
     "execution_count": 98,
     "metadata": {},
     "output_type": "execute_result"
    }
   ],
   "source": [
    "constants.ton_TNT"
   ]
  },
  {
   "cell_type": "markdown",
   "id": "bc537390",
   "metadata": {},
   "source": [
    "### Power:\n",
    "Return the specified unit in watts (e.g. horsepowe r returns 745.6998715822701)"
   ]
  },
  {
   "cell_type": "code",
   "execution_count": 99,
   "id": "2c5d99b3",
   "metadata": {},
   "outputs": [
    {
     "data": {
      "text/plain": [
       "745.6998715822701"
      ]
     },
     "execution_count": 99,
     "metadata": {},
     "output_type": "execute_result"
    }
   ],
   "source": [
    "constants.hp"
   ]
  },
  {
   "cell_type": "code",
   "execution_count": 100,
   "id": "dec36e60",
   "metadata": {},
   "outputs": [
    {
     "data": {
      "text/plain": [
       "745.6998715822701"
      ]
     },
     "execution_count": 100,
     "metadata": {},
     "output_type": "execute_result"
    }
   ],
   "source": [
    "constants.horsepower"
   ]
  },
  {
   "cell_type": "markdown",
   "id": "2c2f936e",
   "metadata": {},
   "source": [
    "### Force:\n",
    "Return the specified unit in newton (e.g. kilogram_forc e returns 9.80665)"
   ]
  },
  {
   "cell_type": "code",
   "execution_count": 101,
   "id": "d3a1521e",
   "metadata": {},
   "outputs": [
    {
     "data": {
      "text/plain": [
       "1e-05"
      ]
     },
     "execution_count": 101,
     "metadata": {},
     "output_type": "execute_result"
    }
   ],
   "source": [
    "constants.dyn"
   ]
  },
  {
   "cell_type": "code",
   "execution_count": 102,
   "id": "963cb1cb",
   "metadata": {},
   "outputs": [
    {
     "data": {
      "text/plain": [
       "1e-05"
      ]
     },
     "execution_count": 102,
     "metadata": {},
     "output_type": "execute_result"
    }
   ],
   "source": [
    "constants.dyne"
   ]
  },
  {
   "cell_type": "code",
   "execution_count": 103,
   "id": "b635d5fe",
   "metadata": {},
   "outputs": [
    {
     "data": {
      "text/plain": [
       "4.4482216152605"
      ]
     },
     "execution_count": 103,
     "metadata": {},
     "output_type": "execute_result"
    }
   ],
   "source": [
    "constants.lbf"
   ]
  },
  {
   "cell_type": "code",
   "execution_count": 104,
   "id": "3eebef6a",
   "metadata": {},
   "outputs": [
    {
     "data": {
      "text/plain": [
       "4.4482216152605"
      ]
     },
     "execution_count": 104,
     "metadata": {},
     "output_type": "execute_result"
    }
   ],
   "source": [
    "constants.pound_force"
   ]
  },
  {
   "cell_type": "code",
   "execution_count": 105,
   "id": "c0e6eb2b",
   "metadata": {},
   "outputs": [
    {
     "data": {
      "text/plain": [
       "9.80665"
      ]
     },
     "execution_count": 105,
     "metadata": {},
     "output_type": "execute_result"
    }
   ],
   "source": [
    "constants.kgf"
   ]
  },
  {
   "cell_type": "code",
   "execution_count": 106,
   "id": "0ac5bda9",
   "metadata": {},
   "outputs": [
    {
     "data": {
      "text/plain": [
       "9.80665"
      ]
     },
     "execution_count": 106,
     "metadata": {},
     "output_type": "execute_result"
    }
   ],
   "source": [
    "constants.kilogram_force"
   ]
  },
  {
   "cell_type": "markdown",
   "id": "50bd6d22",
   "metadata": {},
   "source": [
    "### Optimizers in SciPy\n",
    "Optimizers are a set of procedures defined in SciPy that either find the minimum value of a function, or the root of an equation."
   ]
  },
  {
   "cell_type": "markdown",
   "id": "8cfc1a6a",
   "metadata": {},
   "source": [
    "### Optimizing Functions\n",
    "Essentially, all of the algorithms in Machine Learning are nothing more than a complex equation that needs to be minimized with the help of given data."
   ]
  },
  {
   "cell_type": "markdown",
   "id": "b17d2c2a",
   "metadata": {},
   "source": [
    "#### Find root of the equation x + cos(x ) :"
   ]
  },
  {
   "cell_type": "code",
   "execution_count": 107,
   "id": "a8863180",
   "metadata": {},
   "outputs": [
    {
     "name": "stdout",
     "output_type": "stream",
     "text": [
      "[-0.73908513]\n"
     ]
    }
   ],
   "source": [
    "from scipy.optimize import root\n",
    "from math import cos\n",
    "def eqn(x):\n",
    "  return x + cos(x)\n",
    "myroot = root(eqn, 0 )\n",
    "print (myroot.x)"
   ]
  },
  {
   "cell_type": "code",
   "execution_count": 108,
   "id": "9517efc2",
   "metadata": {},
   "outputs": [
    {
     "name": "stdout",
     "output_type": "stream",
     "text": [
      " message: The solution converged.\n",
      " success: True\n",
      "  status: 1\n",
      "     fun: [ 0.000e+00]\n",
      "       x: [-7.391e-01]\n",
      "    nfev: 9\n",
      "    fjac: [[-1.000e+00]]\n",
      "       r: [-1.674e+00]\n",
      "     qtf: [-2.668e-13]\n"
     ]
    }
   ],
   "source": [
    "print(myroot)"
   ]
  },
  {
   "cell_type": "markdown",
   "id": "00e9ed7e",
   "metadata": {},
   "source": [
    "### SciPy Statistical Significance Tests\n",
    "\n",
    "In statistics, statistical significance means that the result that was produced has a reason behind it, it was not produced randomly, or by chance.\n",
    "SciPy provides us with a module called scipy.stat s , which has functions for performing statistical significance tests."
   ]
  },
  {
   "cell_type": "markdown",
   "id": "0c962fde",
   "metadata": {},
   "source": [
    "### T-test\n",
    "T-tests are used to determine if there is significant deference between means of two variables. and lets us know if they belong to the same distribution.\n",
    "It is a two tailed test.\n",
    "The function ttest_ind( ) takes two samples of same size and produces a tuple of t-statistic and p-value."
   ]
  },
  {
   "cell_type": "code",
   "execution_count": 109,
   "id": "967d0717",
   "metadata": {},
   "outputs": [
    {
     "name": "stdout",
     "output_type": "stream",
     "text": [
      "Ttest_indResult(statistic=-0.3738548097876047, pvalue=0.7089123532194355)\n"
     ]
    }
   ],
   "source": [
    "from scipy.stats import ttest_ind\n",
    "v1 = np.random.normal(size=100 )\n",
    "v2 = np.random.normal(size=100 )\n",
    "res = ttest_ind(v1, v2)\n",
    "print (res)"
   ]
  },
  {
   "cell_type": "markdown",
   "id": "f1979de4",
   "metadata": {},
   "source": [
    "#### For displaying only p-value;"
   ]
  },
  {
   "cell_type": "code",
   "execution_count": 110,
   "id": "1a327e26",
   "metadata": {},
   "outputs": [
    {
     "name": "stdout",
     "output_type": "stream",
     "text": [
      "0.7089123532194355\n"
     ]
    }
   ],
   "source": [
    "res = ttest_ind(v1, v2).pvalue\n",
    "print (res)"
   ]
  },
  {
   "cell_type": "markdown",
   "id": "09154037",
   "metadata": {},
   "source": [
    "### KS Test\n",
    "KS test is used to check if given values follow a distribution."
   ]
  },
  {
   "cell_type": "code",
   "execution_count": 111,
   "id": "576a00b3",
   "metadata": {},
   "outputs": [
    {
     "name": "stdout",
     "output_type": "stream",
     "text": [
      "KstestResult(statistic=0.05052455282364693, pvalue=0.9491571411974371, statistic_location=-0.7739660057965958, statistic_sign=1)\n"
     ]
    }
   ],
   "source": [
    "from scipy.stats import kstest\n",
    "\n",
    "v = np.random.normal(size=100 )\n",
    "\n",
    "res = kstest(v, 'norm' )\n",
    "\n",
    "print (res)"
   ]
  },
  {
   "cell_type": "markdown",
   "id": "64db48c7",
   "metadata": {},
   "source": [
    "### Statistical Description of Data\n",
    "In order to see a summary of values in an array, we can use the describe( ) function.\n",
    "It returns the following description:\n",
    "1.      number of observations (nobs)\n",
    "2.      minimum and maximum values = minmax\n",
    "3.      mean\n",
    "4.      variance\n",
    "5.      skewness\n",
    "6.      kurtosis"
   ]
  },
  {
   "cell_type": "code",
   "execution_count": 112,
   "id": "a9f2c454",
   "metadata": {},
   "outputs": [
    {
     "name": "stdout",
     "output_type": "stream",
     "text": [
      "DescribeResult(nobs=100, minmax=(-1.9912420833029174, 2.4022302843980583), mean=0.04005500292261657, variance=0.9411881219089001, skewness=0.31744164677633824, kurtosis=-0.3628862799655348)\n"
     ]
    }
   ],
   "source": [
    "from scipy.stats import describe\n",
    "v = np.random.normal(size=100 )\n",
    "res = describe(v)\n",
    "print (res)"
   ]
  },
  {
   "cell_type": "markdown",
   "id": "86286149",
   "metadata": {},
   "source": [
    "### Normality Tests (Skewness and Kurtosis)"
   ]
  },
  {
   "cell_type": "code",
   "execution_count": 113,
   "id": "410f7b65",
   "metadata": {},
   "outputs": [
    {
     "name": "stdout",
     "output_type": "stream",
     "text": [
      "0.021842538200524866\n",
      "-0.9272259281501878\n"
     ]
    }
   ],
   "source": [
    "from scipy.stats import skew, kurtosis\n",
    "\n",
    "v = np.random.normal(size=100 )\n",
    "\n",
    "print (skew(v))\n",
    "\n",
    "print (kurtosis(v))"
   ]
  },
  {
   "cell_type": "markdown",
   "id": "8a3a062d",
   "metadata": {},
   "source": [
    "### Find if the data comes from a normal distribution:"
   ]
  },
  {
   "cell_type": "code",
   "execution_count": 114,
   "id": "3cbdbe0d",
   "metadata": {},
   "outputs": [
    {
     "name": "stdout",
     "output_type": "stream",
     "text": [
      "NormaltestResult(statistic=4.183675276251119, pvalue=0.1234600523335727)\n"
     ]
    }
   ],
   "source": [
    "from scipy.stats import normaltest\n",
    "\n",
    "v = np.random.normal(size=100 )\n",
    "\n",
    "print (normaltest(v))"
   ]
  }
 ],
 "metadata": {
  "kernelspec": {
   "display_name": "Python 3 (ipykernel)",
   "language": "python",
   "name": "python3"
  },
  "language_info": {
   "codemirror_mode": {
    "name": "ipython",
    "version": 3
   },
   "file_extension": ".py",
   "mimetype": "text/x-python",
   "name": "python",
   "nbconvert_exporter": "python",
   "pygments_lexer": "ipython3",
   "version": "3.9.13"
  }
 },
 "nbformat": 4,
 "nbformat_minor": 5
}
