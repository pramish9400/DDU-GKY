{
 "cells": [
  {
   "cell_type": "markdown",
   "id": "ff340701",
   "metadata": {},
   "source": [
    "# POLARS"
   ]
  },
  {
   "cell_type": "code",
   "execution_count": 1,
   "id": "f3411656",
   "metadata": {},
   "outputs": [],
   "source": [
    "import polars as pl"
   ]
  },
  {
   "cell_type": "code",
   "execution_count": 2,
   "id": "ab2410bb",
   "metadata": {},
   "outputs": [
    {
     "data": {
      "text/plain": [
       "['ArrowError',\n",
       " 'Binary',\n",
       " 'Boolean',\n",
       " 'Categorical',\n",
       " 'ColumnNotFoundError',\n",
       " 'ComputeError',\n",
       " 'Config',\n",
       " 'DATETIME_DTYPES',\n",
       " 'DURATION_DTYPES',\n",
       " 'DataFrame',\n",
       " 'DataType',\n",
       " 'Date',\n",
       " 'Datetime',\n",
       " 'Decimal',\n",
       " 'DuplicateError',\n",
       " 'Duration',\n",
       " 'Expr',\n",
       " 'FLOAT_DTYPES',\n",
       " 'Field',\n",
       " 'Float32',\n",
       " 'Float64',\n",
       " 'INTEGER_DTYPES',\n",
       " 'Int16',\n",
       " 'Int32',\n",
       " 'Int64',\n",
       " 'Int8',\n",
       " 'InvalidOperationError',\n",
       " 'LazyFrame',\n",
       " 'List',\n",
       " 'NUMERIC_DTYPES',\n",
       " 'NoDataError',\n",
       " 'Null',\n",
       " 'Object',\n",
       " 'PanicException',\n",
       " 'PolarsDataType',\n",
       " 'SQLContext',\n",
       " 'SchemaError',\n",
       " 'SchemaFieldNotFoundError',\n",
       " 'Series',\n",
       " 'ShapeError',\n",
       " 'StringCache',\n",
       " 'Struct',\n",
       " 'StructFieldNotFoundError',\n",
       " 'TEMPORAL_DTYPES',\n",
       " 'Time',\n",
       " 'UInt16',\n",
       " 'UInt32',\n",
       " 'UInt64',\n",
       " 'UInt8',\n",
       " 'Unknown',\n",
       " 'Utf8',\n",
       " '__all__',\n",
       " '__annotations__',\n",
       " '__builtins__',\n",
       " '__cached__',\n",
       " '__doc__',\n",
       " '__file__',\n",
       " '__loader__',\n",
       " '__name__',\n",
       " '__package__',\n",
       " '__path__',\n",
       " '__spec__',\n",
       " '__version__',\n",
       " 'align_frames',\n",
       " 'all',\n",
       " 'any',\n",
       " 'api',\n",
       " 'apply',\n",
       " 'arange',\n",
       " 'arg_sort_by',\n",
       " 'arg_where',\n",
       " 'argsort_by',\n",
       " 'avg',\n",
       " 'build_info',\n",
       " 'coalesce',\n",
       " 'col',\n",
       " 'collect_all',\n",
       " 'concat',\n",
       " 'concat_list',\n",
       " 'concat_str',\n",
       " 'config',\n",
       " 'convert',\n",
       " 'corr',\n",
       " 'count',\n",
       " 'cov',\n",
       " 'cumfold',\n",
       " 'cumreduce',\n",
       " 'cumsum',\n",
       " 'cut',\n",
       " 'dataframe',\n",
       " 'datatypes',\n",
       " 'date',\n",
       " 'date_range',\n",
       " 'datetime',\n",
       " 'dependencies',\n",
       " 'duration',\n",
       " 'element',\n",
       " 'exceptions',\n",
       " 'exclude',\n",
       " 'expr',\n",
       " 'first',\n",
       " 'fold',\n",
       " 'format',\n",
       " 'from_arrow',\n",
       " 'from_dataframe',\n",
       " 'from_dict',\n",
       " 'from_dicts',\n",
       " 'from_epoch',\n",
       " 'from_numpy',\n",
       " 'from_pandas',\n",
       " 'from_records',\n",
       " 'from_repr',\n",
       " 'functions',\n",
       " 'get_dummies',\n",
       " 'get_idx_type',\n",
       " 'get_index_type',\n",
       " 'groups',\n",
       " 'head',\n",
       " 'internals',\n",
       " 'io',\n",
       " 'last',\n",
       " 'lazyframe',\n",
       " 'list',\n",
       " 'lit',\n",
       " 'map',\n",
       " 'max',\n",
       " 'mean',\n",
       " 'median',\n",
       " 'min',\n",
       " 'n_unique',\n",
       " 'ones',\n",
       " 'os',\n",
       " 'pearson_corr',\n",
       " 'polars',\n",
       " 'quantile',\n",
       " 'read_avro',\n",
       " 'read_csv',\n",
       " 'read_csv_batched',\n",
       " 'read_database',\n",
       " 'read_delta',\n",
       " 'read_excel',\n",
       " 'read_ipc',\n",
       " 'read_ipc_schema',\n",
       " 'read_json',\n",
       " 'read_ndjson',\n",
       " 'read_parquet',\n",
       " 'read_parquet_schema',\n",
       " 'read_sql',\n",
       " 'reduce',\n",
       " 'repeat',\n",
       " 'scan_csv',\n",
       " 'scan_delta',\n",
       " 'scan_ds',\n",
       " 'scan_ipc',\n",
       " 'scan_ndjson',\n",
       " 'scan_parquet',\n",
       " 'scan_pyarrow_dataset',\n",
       " 'select',\n",
       " 'series',\n",
       " 'show_versions',\n",
       " 'slice',\n",
       " 'spearman_rank_corr',\n",
       " 'sql',\n",
       " 'std',\n",
       " 'string_cache',\n",
       " 'struct',\n",
       " 'sum',\n",
       " 'tail',\n",
       " 'threadpool_size',\n",
       " 'toggle_string_cache',\n",
       " 'type_aliases',\n",
       " 'using_string_cache',\n",
       " 'utils',\n",
       " 'var',\n",
       " 'when',\n",
       " 'wrap_df',\n",
       " 'wrap_s',\n",
       " 'zeros']"
      ]
     },
     "execution_count": 2,
     "metadata": {},
     "output_type": "execute_result"
    }
   ],
   "source": [
    "dir(pl)"
   ]
  },
  {
   "cell_type": "code",
   "execution_count": 3,
   "id": "b38d9038",
   "metadata": {},
   "outputs": [],
   "source": [
    "data = pl.read_csv('./Salary_dataset.csv')"
   ]
  },
  {
   "cell_type": "code",
   "execution_count": 4,
   "id": "8f31b258",
   "metadata": {},
   "outputs": [
    {
     "data": {
      "text/plain": [
       "[Int64, Float64, Float64]"
      ]
     },
     "execution_count": 4,
     "metadata": {},
     "output_type": "execute_result"
    }
   ],
   "source": [
    "data.dtypes"
   ]
  },
  {
   "cell_type": "code",
   "execution_count": 5,
   "id": "3250d787",
   "metadata": {},
   "outputs": [
    {
     "data": {
      "text/plain": [
       "polars.dataframe.frame.DataFrame"
      ]
     },
     "execution_count": 5,
     "metadata": {},
     "output_type": "execute_result"
    }
   ],
   "source": [
    "type(data)"
   ]
  },
  {
   "cell_type": "code",
   "execution_count": 6,
   "id": "fee3cc10",
   "metadata": {},
   "outputs": [
    {
     "name": "stdout",
     "output_type": "stream",
     "text": [
      "shape: (5, 3)\n",
      "┌─────┬─────────────────┬─────────┐\n",
      "│     ┆ YearsExperience ┆ Salary  │\n",
      "│ --- ┆ ---             ┆ ---     │\n",
      "│ i64 ┆ f64             ┆ f64     │\n",
      "╞═════╪═════════════════╪═════════╡\n",
      "│ 0   ┆ 1.2             ┆ 39344.0 │\n",
      "│ 1   ┆ 1.4             ┆ 46206.0 │\n",
      "│ 2   ┆ 1.6             ┆ 37732.0 │\n",
      "│ 3   ┆ 2.1             ┆ 43526.0 │\n",
      "│ 4   ┆ 2.3             ┆ 39892.0 │\n",
      "└─────┴─────────────────┴─────────┘\n"
     ]
    }
   ],
   "source": [
    "print(data.head())"
   ]
  },
  {
   "cell_type": "code",
   "execution_count": 7,
   "id": "7bbf3651",
   "metadata": {},
   "outputs": [
    {
     "data": {
      "text/plain": [
       "[Int64, Float64, Float64]"
      ]
     },
     "execution_count": 7,
     "metadata": {},
     "output_type": "execute_result"
    }
   ],
   "source": [
    "data.dtypes"
   ]
  },
  {
   "cell_type": "code",
   "execution_count": 8,
   "id": "7ac7e022",
   "metadata": {},
   "outputs": [
    {
     "data": {
      "text/plain": [
       "['', 'YearsExperience', 'Salary']"
      ]
     },
     "execution_count": 8,
     "metadata": {},
     "output_type": "execute_result"
    }
   ],
   "source": [
    "data.columns"
   ]
  },
  {
   "cell_type": "markdown",
   "id": "6a2f52bb",
   "metadata": {},
   "source": [
    "#### Methods or attributes on the dataframe"
   ]
  },
  {
   "cell_type": "code",
   "execution_count": 9,
   "id": "46a9a1ad",
   "metadata": {},
   "outputs": [
    {
     "data": {
      "text/plain": [
       "['__add__',\n",
       " '__annotations__',\n",
       " '__bool__',\n",
       " '__class__',\n",
       " '__contains__',\n",
       " '__copy__',\n",
       " '__dataframe__',\n",
       " '__deepcopy__',\n",
       " '__delattr__',\n",
       " '__dict__',\n",
       " '__dir__',\n",
       " '__doc__',\n",
       " '__eq__',\n",
       " '__floordiv__',\n",
       " '__format__',\n",
       " '__ge__',\n",
       " '__getattr__',\n",
       " '__getattribute__',\n",
       " '__getitem__',\n",
       " '__getstate__',\n",
       " '__gt__',\n",
       " '__hash__',\n",
       " '__init__',\n",
       " '__init_subclass__',\n",
       " '__iter__',\n",
       " '__le__',\n",
       " '__len__',\n",
       " '__lt__',\n",
       " '__mod__',\n",
       " '__module__',\n",
       " '__mul__',\n",
       " '__ne__',\n",
       " '__new__',\n",
       " '__radd__',\n",
       " '__reduce__',\n",
       " '__reduce_ex__',\n",
       " '__repr__',\n",
       " '__rmul__',\n",
       " '__setattr__',\n",
       " '__setitem__',\n",
       " '__setstate__',\n",
       " '__sizeof__',\n",
       " '__str__',\n",
       " '__sub__',\n",
       " '__subclasshook__',\n",
       " '__truediv__',\n",
       " '__weakref__',\n",
       " '_accessors',\n",
       " '_cast_all_from_to',\n",
       " '_comp',\n",
       " '_compare_to_non_df',\n",
       " '_compare_to_other_df',\n",
       " '_df',\n",
       " '_div',\n",
       " '_from_arrow',\n",
       " '_from_dict',\n",
       " '_from_dicts',\n",
       " '_from_numpy',\n",
       " '_from_pandas',\n",
       " '_from_pydf',\n",
       " '_from_records',\n",
       " '_ipython_key_completions_',\n",
       " '_pos_idx',\n",
       " '_pos_idxs',\n",
       " '_read_avro',\n",
       " '_read_csv',\n",
       " '_read_ipc',\n",
       " '_read_json',\n",
       " '_read_ndjson',\n",
       " '_read_parquet',\n",
       " '_repr_html_',\n",
       " 'apply',\n",
       " 'clear',\n",
       " 'clone',\n",
       " 'columns',\n",
       " 'corr',\n",
       " 'describe',\n",
       " 'drop',\n",
       " 'drop_in_place',\n",
       " 'drop_nulls',\n",
       " 'dtypes',\n",
       " 'estimated_size',\n",
       " 'explode',\n",
       " 'extend',\n",
       " 'fill_nan',\n",
       " 'fill_null',\n",
       " 'filter',\n",
       " 'find_idx_by_name',\n",
       " 'fold',\n",
       " 'frame_equal',\n",
       " 'get_column',\n",
       " 'get_columns',\n",
       " 'glimpse',\n",
       " 'groupby',\n",
       " 'groupby_dynamic',\n",
       " 'groupby_rolling',\n",
       " 'hash_rows',\n",
       " 'head',\n",
       " 'height',\n",
       " 'hstack',\n",
       " 'insert_at_idx',\n",
       " 'interpolate',\n",
       " 'is_duplicated',\n",
       " 'is_empty',\n",
       " 'is_unique',\n",
       " 'item',\n",
       " 'iter_rows',\n",
       " 'iter_slices',\n",
       " 'join',\n",
       " 'join_asof',\n",
       " 'lazy',\n",
       " 'limit',\n",
       " 'max',\n",
       " 'mean',\n",
       " 'median',\n",
       " 'melt',\n",
       " 'merge_sorted',\n",
       " 'min',\n",
       " 'n_chunks',\n",
       " 'n_unique',\n",
       " 'null_count',\n",
       " 'partition_by',\n",
       " 'pipe',\n",
       " 'pivot',\n",
       " 'product',\n",
       " 'quantile',\n",
       " 'rechunk',\n",
       " 'rename',\n",
       " 'replace',\n",
       " 'replace_at_idx',\n",
       " 'reverse',\n",
       " 'row',\n",
       " 'rows',\n",
       " 'sample',\n",
       " 'schema',\n",
       " 'select',\n",
       " 'shape',\n",
       " 'shift',\n",
       " 'shift_and_fill',\n",
       " 'shrink_to_fit',\n",
       " 'slice',\n",
       " 'sort',\n",
       " 'std',\n",
       " 'sum',\n",
       " 'tail',\n",
       " 'take_every',\n",
       " 'to_arrow',\n",
       " 'to_dict',\n",
       " 'to_dicts',\n",
       " 'to_dummies',\n",
       " 'to_init_repr',\n",
       " 'to_numpy',\n",
       " 'to_pandas',\n",
       " 'to_series',\n",
       " 'to_struct',\n",
       " 'top_k',\n",
       " 'transpose',\n",
       " 'unique',\n",
       " 'unnest',\n",
       " 'unstack',\n",
       " 'update',\n",
       " 'upsample',\n",
       " 'var',\n",
       " 'vstack',\n",
       " 'width',\n",
       " 'with_columns',\n",
       " 'with_row_count',\n",
       " 'write_avro',\n",
       " 'write_csv',\n",
       " 'write_database',\n",
       " 'write_excel',\n",
       " 'write_ipc',\n",
       " 'write_json',\n",
       " 'write_ndjson',\n",
       " 'write_parquet']"
      ]
     },
     "execution_count": 9,
     "metadata": {},
     "output_type": "execute_result"
    }
   ],
   "source": [
    "dir(data)"
   ]
  },
  {
   "cell_type": "markdown",
   "id": "ea514b62",
   "metadata": {},
   "source": [
    "#### Some functions wont work like pandas, so we need to use to_pandas method to use them"
   ]
  },
  {
   "cell_type": "code",
   "execution_count": 10,
   "id": "4c0f15a9",
   "metadata": {},
   "outputs": [
    {
     "data": {
      "text/html": [
       "<div>\n",
       "<style scoped>\n",
       "    .dataframe tbody tr th:only-of-type {\n",
       "        vertical-align: middle;\n",
       "    }\n",
       "\n",
       "    .dataframe tbody tr th {\n",
       "        vertical-align: top;\n",
       "    }\n",
       "\n",
       "    .dataframe thead th {\n",
       "        text-align: right;\n",
       "    }\n",
       "</style>\n",
       "<table border=\"1\" class=\"dataframe\">\n",
       "  <thead>\n",
       "    <tr style=\"text-align: right;\">\n",
       "      <th></th>\n",
       "      <th></th>\n",
       "      <th>YearsExperience</th>\n",
       "      <th>Salary</th>\n",
       "    </tr>\n",
       "  </thead>\n",
       "  <tbody>\n",
       "    <tr>\n",
       "      <th>count</th>\n",
       "      <td>30.000000</td>\n",
       "      <td>30.000000</td>\n",
       "      <td>30.000000</td>\n",
       "    </tr>\n",
       "    <tr>\n",
       "      <th>mean</th>\n",
       "      <td>14.500000</td>\n",
       "      <td>5.413333</td>\n",
       "      <td>76004.000000</td>\n",
       "    </tr>\n",
       "    <tr>\n",
       "      <th>std</th>\n",
       "      <td>8.803408</td>\n",
       "      <td>2.837888</td>\n",
       "      <td>27414.429785</td>\n",
       "    </tr>\n",
       "    <tr>\n",
       "      <th>min</th>\n",
       "      <td>0.000000</td>\n",
       "      <td>1.200000</td>\n",
       "      <td>37732.000000</td>\n",
       "    </tr>\n",
       "    <tr>\n",
       "      <th>25%</th>\n",
       "      <td>7.250000</td>\n",
       "      <td>3.300000</td>\n",
       "      <td>56721.750000</td>\n",
       "    </tr>\n",
       "    <tr>\n",
       "      <th>50%</th>\n",
       "      <td>14.500000</td>\n",
       "      <td>4.800000</td>\n",
       "      <td>65238.000000</td>\n",
       "    </tr>\n",
       "    <tr>\n",
       "      <th>75%</th>\n",
       "      <td>21.750000</td>\n",
       "      <td>7.800000</td>\n",
       "      <td>100545.750000</td>\n",
       "    </tr>\n",
       "    <tr>\n",
       "      <th>max</th>\n",
       "      <td>29.000000</td>\n",
       "      <td>10.600000</td>\n",
       "      <td>122392.000000</td>\n",
       "    </tr>\n",
       "  </tbody>\n",
       "</table>\n",
       "</div>"
      ],
      "text/plain": [
       "                  YearsExperience         Salary\n",
       "count  30.000000        30.000000      30.000000\n",
       "mean   14.500000         5.413333   76004.000000\n",
       "std     8.803408         2.837888   27414.429785\n",
       "min     0.000000         1.200000   37732.000000\n",
       "25%     7.250000         3.300000   56721.750000\n",
       "50%    14.500000         4.800000   65238.000000\n",
       "75%    21.750000         7.800000  100545.750000\n",
       "max    29.000000        10.600000  122392.000000"
      ]
     },
     "execution_count": 10,
     "metadata": {},
     "output_type": "execute_result"
    }
   ],
   "source": [
    "data.to_pandas().describe()"
   ]
  },
  {
   "cell_type": "markdown",
   "id": "9d971847",
   "metadata": {},
   "source": [
    "### Selection"
   ]
  },
  {
   "cell_type": "markdown",
   "id": "fbe142b0",
   "metadata": {},
   "source": [
    "#### Select by column names"
   ]
  },
  {
   "cell_type": "code",
   "execution_count": 11,
   "id": "b60a0a4c",
   "metadata": {},
   "outputs": [
    {
     "data": {
      "text/plain": [
       "['', 'YearsExperience', 'Salary']"
      ]
     },
     "execution_count": 11,
     "metadata": {},
     "output_type": "execute_result"
    }
   ],
   "source": [
    "data.columns"
   ]
  },
  {
   "cell_type": "code",
   "execution_count": 12,
   "id": "939e15a9",
   "metadata": {},
   "outputs": [
    {
     "data": {
      "text/html": [
       "<div><style>\n",
       ".dataframe > thead > tr > th,\n",
       ".dataframe > tbody > tr > td {\n",
       "  text-align: right;\n",
       "}\n",
       "</style>\n",
       "<small>shape: (30,)</small><table border=\"1\" class=\"dataframe\"><thead><tr><th></th></tr><tr><td>i64</td></tr></thead><tbody><tr><td>0</td></tr><tr><td>1</td></tr><tr><td>2</td></tr><tr><td>3</td></tr><tr><td>4</td></tr><tr><td>5</td></tr><tr><td>6</td></tr><tr><td>7</td></tr><tr><td>8</td></tr><tr><td>9</td></tr><tr><td>10</td></tr><tr><td>11</td></tr><tr><td>&hellip;</td></tr><tr><td>18</td></tr><tr><td>19</td></tr><tr><td>20</td></tr><tr><td>21</td></tr><tr><td>22</td></tr><tr><td>23</td></tr><tr><td>24</td></tr><tr><td>25</td></tr><tr><td>26</td></tr><tr><td>27</td></tr><tr><td>28</td></tr><tr><td>29</td></tr></tbody></table></div>"
      ],
      "text/plain": [
       "shape: (30,)\n",
       "Series: '' [i64]\n",
       "[\n",
       "\t0\n",
       "\t1\n",
       "\t2\n",
       "\t3\n",
       "\t4\n",
       "\t5\n",
       "\t6\n",
       "\t7\n",
       "\t8\n",
       "\t9\n",
       "\t10\n",
       "\t11\n",
       "\t…\n",
       "\t17\n",
       "\t18\n",
       "\t19\n",
       "\t20\n",
       "\t21\n",
       "\t22\n",
       "\t23\n",
       "\t24\n",
       "\t25\n",
       "\t26\n",
       "\t27\n",
       "\t28\n",
       "\t29\n",
       "]"
      ]
     },
     "execution_count": 12,
     "metadata": {},
     "output_type": "execute_result"
    }
   ],
   "source": [
    "data['']"
   ]
  },
  {
   "cell_type": "markdown",
   "id": "08534f7c",
   "metadata": {},
   "source": [
    "#### Select columns by index"
   ]
  },
  {
   "cell_type": "code",
   "execution_count": 13,
   "id": "7537826f",
   "metadata": {},
   "outputs": [
    {
     "data": {
      "text/html": [
       "<div><style>\n",
       ".dataframe > thead > tr > th,\n",
       ".dataframe > tbody > tr > td {\n",
       "  text-align: right;\n",
       "}\n",
       "</style>\n",
       "<small>shape: (1, 3)</small><table border=\"1\" class=\"dataframe\"><thead><tr><th></th><th>YearsExperience</th><th>Salary</th></tr><tr><td>i64</td><td>f64</td><td>f64</td></tr></thead><tbody><tr><td>1</td><td>1.4</td><td>46206.0</td></tr></tbody></table></div>"
      ],
      "text/plain": [
       "shape: (1, 3)\n",
       "┌─────┬─────────────────┬─────────┐\n",
       "│     ┆ YearsExperience ┆ Salary  │\n",
       "│ --- ┆ ---             ┆ ---     │\n",
       "│ i64 ┆ f64             ┆ f64     │\n",
       "╞═════╪═════════════════╪═════════╡\n",
       "│ 1   ┆ 1.4             ┆ 46206.0 │\n",
       "└─────┴─────────────────┴─────────┘"
      ]
     },
     "execution_count": 13,
     "metadata": {},
     "output_type": "execute_result"
    }
   ],
   "source": [
    "data[1]"
   ]
  },
  {
   "cell_type": "markdown",
   "id": "fb46358a",
   "metadata": {},
   "source": [
    "PyPolars Python Tutorial (Data Analysis with PyPolars & Pandas)"
   ]
  },
  {
   "cell_type": "code",
   "execution_count": null,
   "id": "1519a6e1",
   "metadata": {},
   "outputs": [],
   "source": []
  }
 ],
 "metadata": {
  "kernelspec": {
   "display_name": "Python 3 (ipykernel)",
   "language": "python",
   "name": "python3"
  },
  "language_info": {
   "codemirror_mode": {
    "name": "ipython",
    "version": 3
   },
   "file_extension": ".py",
   "mimetype": "text/x-python",
   "name": "python",
   "nbconvert_exporter": "python",
   "pygments_lexer": "ipython3",
   "version": "3.9.13"
  }
 },
 "nbformat": 4,
 "nbformat_minor": 5
}
