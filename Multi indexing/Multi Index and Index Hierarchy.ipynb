{
 "cells": [
  {
   "cell_type": "markdown",
   "id": "0a30a982",
   "metadata": {},
   "source": [
    "### <center> Multi Index and Index Hierarchy"
   ]
  },
  {
   "cell_type": "markdown",
   "id": "0a6fe6a3",
   "metadata": {},
   "source": [
    "### Lets create a data frame with multi index and Hierarchy"
   ]
  },
  {
   "cell_type": "code",
   "execution_count": 1,
   "id": "53f421cd",
   "metadata": {},
   "outputs": [],
   "source": [
    "import pandas as pd \n",
    "import numpy as np "
   ]
  },
  {
   "cell_type": "code",
   "execution_count": 2,
   "id": "ab18d2a0",
   "metadata": {},
   "outputs": [],
   "source": [
    "inside = ['class A', 'class B', 'class C','class A', 'class B', 'class C']"
   ]
  },
  {
   "cell_type": "code",
   "execution_count": 3,
   "id": "710fe31b",
   "metadata": {},
   "outputs": [],
   "source": [
    "outside = [\"school 1\", \"school 1\",\"school 1\", \"school 2\", \"school 2\",\"school 2\"]"
   ]
  },
  {
   "cell_type": "code",
   "execution_count": 4,
   "id": "cc5e3698",
   "metadata": {},
   "outputs": [
    {
     "data": {
      "text/plain": [
       "<zip at 0x2077a372b80>"
      ]
     },
     "execution_count": 4,
     "metadata": {},
     "output_type": "execute_result"
    }
   ],
   "source": [
    "zip(outside, inside)"
   ]
  },
  {
   "cell_type": "code",
   "execution_count": 5,
   "id": "f0166013",
   "metadata": {},
   "outputs": [],
   "source": [
    "multi_index = list(zip(outside, inside))"
   ]
  },
  {
   "cell_type": "code",
   "execution_count": 6,
   "id": "782d6ad4",
   "metadata": {},
   "outputs": [
    {
     "data": {
      "text/plain": [
       "[('school 1', 'class A'),\n",
       " ('school 1', 'class B'),\n",
       " ('school 1', 'class C'),\n",
       " ('school 2', 'class A'),\n",
       " ('school 2', 'class B'),\n",
       " ('school 2', 'class C')]"
      ]
     },
     "execution_count": 6,
     "metadata": {},
     "output_type": "execute_result"
    }
   ],
   "source": [
    "multi_index"
   ]
  },
  {
   "cell_type": "code",
   "execution_count": 7,
   "id": "d8745eff",
   "metadata": {},
   "outputs": [],
   "source": [
    "hier_index = pd.MultiIndex.from_tuples(multi_index)"
   ]
  },
  {
   "cell_type": "code",
   "execution_count": 8,
   "id": "d0cd74f0",
   "metadata": {},
   "outputs": [
    {
     "data": {
      "text/plain": [
       "MultiIndex([('school 1', 'class A'),\n",
       "            ('school 1', 'class B'),\n",
       "            ('school 1', 'class C'),\n",
       "            ('school 2', 'class A'),\n",
       "            ('school 2', 'class B'),\n",
       "            ('school 2', 'class C')],\n",
       "           )"
      ]
     },
     "execution_count": 8,
     "metadata": {},
     "output_type": "execute_result"
    }
   ],
   "source": [
    "hier_index"
   ]
  },
  {
   "cell_type": "code",
   "execution_count": 10,
   "id": "b1a9418d",
   "metadata": {},
   "outputs": [],
   "source": [
    "np.random.seed(0)\n",
    "data = pd.DataFrame(np.random.randint(70, 100, size = (6,2)), index=hier_index, columns=['1st_sem', '2nd_sem'])"
   ]
  },
  {
   "cell_type": "code",
   "execution_count": 11,
   "id": "4f5fb726",
   "metadata": {
    "scrolled": true
   },
   "outputs": [
    {
     "data": {
      "text/html": [
       "<div>\n",
       "<style scoped>\n",
       "    .dataframe tbody tr th:only-of-type {\n",
       "        vertical-align: middle;\n",
       "    }\n",
       "\n",
       "    .dataframe tbody tr th {\n",
       "        vertical-align: top;\n",
       "    }\n",
       "\n",
       "    .dataframe thead th {\n",
       "        text-align: right;\n",
       "    }\n",
       "</style>\n",
       "<table border=\"1\" class=\"dataframe\">\n",
       "  <thead>\n",
       "    <tr style=\"text-align: right;\">\n",
       "      <th></th>\n",
       "      <th></th>\n",
       "      <th>1st_sem</th>\n",
       "      <th>2nd_sem</th>\n",
       "    </tr>\n",
       "  </thead>\n",
       "  <tbody>\n",
       "    <tr>\n",
       "      <th rowspan=\"3\" valign=\"top\">school 1</th>\n",
       "      <th>class A</th>\n",
       "      <td>82</td>\n",
       "      <td>85</td>\n",
       "    </tr>\n",
       "    <tr>\n",
       "      <th>class B</th>\n",
       "      <td>91</td>\n",
       "      <td>70</td>\n",
       "    </tr>\n",
       "    <tr>\n",
       "      <th>class C</th>\n",
       "      <td>73</td>\n",
       "      <td>97</td>\n",
       "    </tr>\n",
       "    <tr>\n",
       "      <th rowspan=\"3\" valign=\"top\">school 2</th>\n",
       "      <th>class A</th>\n",
       "      <td>73</td>\n",
       "      <td>77</td>\n",
       "    </tr>\n",
       "    <tr>\n",
       "      <th>class B</th>\n",
       "      <td>79</td>\n",
       "      <td>89</td>\n",
       "    </tr>\n",
       "    <tr>\n",
       "      <th>class C</th>\n",
       "      <td>91</td>\n",
       "      <td>88</td>\n",
       "    </tr>\n",
       "  </tbody>\n",
       "</table>\n",
       "</div>"
      ],
      "text/plain": [
       "                  1st_sem  2nd_sem\n",
       "school 1 class A       82       85\n",
       "         class B       91       70\n",
       "         class C       73       97\n",
       "school 2 class A       73       77\n",
       "         class B       79       89\n",
       "         class C       91       88"
      ]
     },
     "execution_count": 11,
     "metadata": {},
     "output_type": "execute_result"
    }
   ],
   "source": [
    "data"
   ]
  },
  {
   "cell_type": "markdown",
   "id": "8e48ad10",
   "metadata": {},
   "source": [
    "### <center> Element selection in Multi-indexed data frames"
   ]
  },
  {
   "cell_type": "code",
   "execution_count": 12,
   "id": "3c21a042",
   "metadata": {},
   "outputs": [
    {
     "data": {
      "text/html": [
       "<div>\n",
       "<style scoped>\n",
       "    .dataframe tbody tr th:only-of-type {\n",
       "        vertical-align: middle;\n",
       "    }\n",
       "\n",
       "    .dataframe tbody tr th {\n",
       "        vertical-align: top;\n",
       "    }\n",
       "\n",
       "    .dataframe thead th {\n",
       "        text-align: right;\n",
       "    }\n",
       "</style>\n",
       "<table border=\"1\" class=\"dataframe\">\n",
       "  <thead>\n",
       "    <tr style=\"text-align: right;\">\n",
       "      <th></th>\n",
       "      <th></th>\n",
       "      <th>1st_sem</th>\n",
       "    </tr>\n",
       "  </thead>\n",
       "  <tbody>\n",
       "    <tr>\n",
       "      <th rowspan=\"3\" valign=\"top\">school 1</th>\n",
       "      <th>class A</th>\n",
       "      <td>82</td>\n",
       "    </tr>\n",
       "    <tr>\n",
       "      <th>class B</th>\n",
       "      <td>91</td>\n",
       "    </tr>\n",
       "    <tr>\n",
       "      <th>class C</th>\n",
       "      <td>73</td>\n",
       "    </tr>\n",
       "    <tr>\n",
       "      <th rowspan=\"3\" valign=\"top\">school 2</th>\n",
       "      <th>class A</th>\n",
       "      <td>73</td>\n",
       "    </tr>\n",
       "    <tr>\n",
       "      <th>class B</th>\n",
       "      <td>79</td>\n",
       "    </tr>\n",
       "    <tr>\n",
       "      <th>class C</th>\n",
       "      <td>91</td>\n",
       "    </tr>\n",
       "  </tbody>\n",
       "</table>\n",
       "</div>"
      ],
      "text/plain": [
       "                  1st_sem\n",
       "school 1 class A       82\n",
       "         class B       91\n",
       "         class C       73\n",
       "school 2 class A       73\n",
       "         class B       79\n",
       "         class C       91"
      ]
     },
     "execution_count": 12,
     "metadata": {},
     "output_type": "execute_result"
    }
   ],
   "source": [
    "data[[\"1st_sem\"]]"
   ]
  },
  {
   "cell_type": "code",
   "execution_count": 13,
   "id": "e1e1d6fe",
   "metadata": {},
   "outputs": [
    {
     "data": {
      "text/html": [
       "<div>\n",
       "<style scoped>\n",
       "    .dataframe tbody tr th:only-of-type {\n",
       "        vertical-align: middle;\n",
       "    }\n",
       "\n",
       "    .dataframe tbody tr th {\n",
       "        vertical-align: top;\n",
       "    }\n",
       "\n",
       "    .dataframe thead th {\n",
       "        text-align: right;\n",
       "    }\n",
       "</style>\n",
       "<table border=\"1\" class=\"dataframe\">\n",
       "  <thead>\n",
       "    <tr style=\"text-align: right;\">\n",
       "      <th></th>\n",
       "      <th></th>\n",
       "      <th>2nd_sem</th>\n",
       "    </tr>\n",
       "  </thead>\n",
       "  <tbody>\n",
       "    <tr>\n",
       "      <th rowspan=\"3\" valign=\"top\">school 1</th>\n",
       "      <th>class A</th>\n",
       "      <td>85</td>\n",
       "    </tr>\n",
       "    <tr>\n",
       "      <th>class B</th>\n",
       "      <td>70</td>\n",
       "    </tr>\n",
       "    <tr>\n",
       "      <th>class C</th>\n",
       "      <td>97</td>\n",
       "    </tr>\n",
       "    <tr>\n",
       "      <th rowspan=\"3\" valign=\"top\">school 2</th>\n",
       "      <th>class A</th>\n",
       "      <td>77</td>\n",
       "    </tr>\n",
       "    <tr>\n",
       "      <th>class B</th>\n",
       "      <td>89</td>\n",
       "    </tr>\n",
       "    <tr>\n",
       "      <th>class C</th>\n",
       "      <td>88</td>\n",
       "    </tr>\n",
       "  </tbody>\n",
       "</table>\n",
       "</div>"
      ],
      "text/plain": [
       "                  2nd_sem\n",
       "school 1 class A       85\n",
       "         class B       70\n",
       "         class C       97\n",
       "school 2 class A       77\n",
       "         class B       89\n",
       "         class C       88"
      ]
     },
     "execution_count": 13,
     "metadata": {},
     "output_type": "execute_result"
    }
   ],
   "source": [
    "data[['2nd_sem']]"
   ]
  },
  {
   "cell_type": "code",
   "execution_count": 14,
   "id": "ce977610",
   "metadata": {},
   "outputs": [
    {
     "data": {
      "text/html": [
       "<div>\n",
       "<style scoped>\n",
       "    .dataframe tbody tr th:only-of-type {\n",
       "        vertical-align: middle;\n",
       "    }\n",
       "\n",
       "    .dataframe tbody tr th {\n",
       "        vertical-align: top;\n",
       "    }\n",
       "\n",
       "    .dataframe thead th {\n",
       "        text-align: right;\n",
       "    }\n",
       "</style>\n",
       "<table border=\"1\" class=\"dataframe\">\n",
       "  <thead>\n",
       "    <tr style=\"text-align: right;\">\n",
       "      <th></th>\n",
       "      <th>1st_sem</th>\n",
       "      <th>2nd_sem</th>\n",
       "    </tr>\n",
       "  </thead>\n",
       "  <tbody>\n",
       "    <tr>\n",
       "      <th>class A</th>\n",
       "      <td>82</td>\n",
       "      <td>85</td>\n",
       "    </tr>\n",
       "    <tr>\n",
       "      <th>class B</th>\n",
       "      <td>91</td>\n",
       "      <td>70</td>\n",
       "    </tr>\n",
       "    <tr>\n",
       "      <th>class C</th>\n",
       "      <td>73</td>\n",
       "      <td>97</td>\n",
       "    </tr>\n",
       "  </tbody>\n",
       "</table>\n",
       "</div>"
      ],
      "text/plain": [
       "         1st_sem  2nd_sem\n",
       "class A       82       85\n",
       "class B       91       70\n",
       "class C       73       97"
      ]
     },
     "execution_count": 14,
     "metadata": {},
     "output_type": "execute_result"
    }
   ],
   "source": [
    "data.loc['school 1']"
   ]
  },
  {
   "cell_type": "code",
   "execution_count": 15,
   "id": "61b8145d",
   "metadata": {},
   "outputs": [
    {
     "data": {
      "text/plain": [
       "1st_sem    91\n",
       "2nd_sem    70\n",
       "Name: class B, dtype: int32"
      ]
     },
     "execution_count": 15,
     "metadata": {},
     "output_type": "execute_result"
    }
   ],
   "source": [
    "data.loc['school 1'].loc['class B']"
   ]
  },
  {
   "cell_type": "code",
   "execution_count": 16,
   "id": "e2dc8c41",
   "metadata": {},
   "outputs": [
    {
     "data": {
      "text/html": [
       "<div>\n",
       "<style scoped>\n",
       "    .dataframe tbody tr th:only-of-type {\n",
       "        vertical-align: middle;\n",
       "    }\n",
       "\n",
       "    .dataframe tbody tr th {\n",
       "        vertical-align: top;\n",
       "    }\n",
       "\n",
       "    .dataframe thead th {\n",
       "        text-align: right;\n",
       "    }\n",
       "</style>\n",
       "<table border=\"1\" class=\"dataframe\">\n",
       "  <thead>\n",
       "    <tr style=\"text-align: right;\">\n",
       "      <th></th>\n",
       "      <th>1st_sem</th>\n",
       "      <th>2nd_sem</th>\n",
       "    </tr>\n",
       "  </thead>\n",
       "  <tbody>\n",
       "    <tr>\n",
       "      <th>class B</th>\n",
       "      <td>91</td>\n",
       "      <td>70</td>\n",
       "    </tr>\n",
       "  </tbody>\n",
       "</table>\n",
       "</div>"
      ],
      "text/plain": [
       "         1st_sem  2nd_sem\n",
       "class B       91       70"
      ]
     },
     "execution_count": 16,
     "metadata": {},
     "output_type": "execute_result"
    }
   ],
   "source": [
    "data.loc['school 1'].loc[['class B']]"
   ]
  },
  {
   "cell_type": "code",
   "execution_count": 17,
   "id": "f04ba383",
   "metadata": {},
   "outputs": [
    {
     "data": {
      "text/plain": [
       "MultiIndex([('school 1', 'class A'),\n",
       "            ('school 1', 'class B'),\n",
       "            ('school 1', 'class C'),\n",
       "            ('school 2', 'class A'),\n",
       "            ('school 2', 'class B'),\n",
       "            ('school 2', 'class C')],\n",
       "           )"
      ]
     },
     "execution_count": 17,
     "metadata": {},
     "output_type": "execute_result"
    }
   ],
   "source": [
    "data.index"
   ]
  },
  {
   "cell_type": "code",
   "execution_count": 18,
   "id": "9d0d0084",
   "metadata": {},
   "outputs": [
    {
     "data": {
      "text/plain": [
       "FrozenList([None, None])"
      ]
     },
     "execution_count": 18,
     "metadata": {},
     "output_type": "execute_result"
    }
   ],
   "source": [
    "data.index.names"
   ]
  },
  {
   "cell_type": "code",
   "execution_count": 19,
   "id": "f7d5ace1",
   "metadata": {},
   "outputs": [],
   "source": [
    "data.index.names = ['schools', 'classes']"
   ]
  },
  {
   "cell_type": "code",
   "execution_count": 20,
   "id": "2e7ca50e",
   "metadata": {},
   "outputs": [
    {
     "data": {
      "text/html": [
       "<div>\n",
       "<style scoped>\n",
       "    .dataframe tbody tr th:only-of-type {\n",
       "        vertical-align: middle;\n",
       "    }\n",
       "\n",
       "    .dataframe tbody tr th {\n",
       "        vertical-align: top;\n",
       "    }\n",
       "\n",
       "    .dataframe thead th {\n",
       "        text-align: right;\n",
       "    }\n",
       "</style>\n",
       "<table border=\"1\" class=\"dataframe\">\n",
       "  <thead>\n",
       "    <tr style=\"text-align: right;\">\n",
       "      <th></th>\n",
       "      <th></th>\n",
       "      <th>1st_sem</th>\n",
       "      <th>2nd_sem</th>\n",
       "    </tr>\n",
       "    <tr>\n",
       "      <th>schools</th>\n",
       "      <th>classes</th>\n",
       "      <th></th>\n",
       "      <th></th>\n",
       "    </tr>\n",
       "  </thead>\n",
       "  <tbody>\n",
       "    <tr>\n",
       "      <th rowspan=\"3\" valign=\"top\">school 1</th>\n",
       "      <th>class A</th>\n",
       "      <td>82</td>\n",
       "      <td>85</td>\n",
       "    </tr>\n",
       "    <tr>\n",
       "      <th>class B</th>\n",
       "      <td>91</td>\n",
       "      <td>70</td>\n",
       "    </tr>\n",
       "    <tr>\n",
       "      <th>class C</th>\n",
       "      <td>73</td>\n",
       "      <td>97</td>\n",
       "    </tr>\n",
       "    <tr>\n",
       "      <th rowspan=\"3\" valign=\"top\">school 2</th>\n",
       "      <th>class A</th>\n",
       "      <td>73</td>\n",
       "      <td>77</td>\n",
       "    </tr>\n",
       "    <tr>\n",
       "      <th>class B</th>\n",
       "      <td>79</td>\n",
       "      <td>89</td>\n",
       "    </tr>\n",
       "    <tr>\n",
       "      <th>class C</th>\n",
       "      <td>91</td>\n",
       "      <td>88</td>\n",
       "    </tr>\n",
       "  </tbody>\n",
       "</table>\n",
       "</div>"
      ],
      "text/plain": [
       "                  1st_sem  2nd_sem\n",
       "schools  classes                  \n",
       "school 1 class A       82       85\n",
       "         class B       91       70\n",
       "         class C       73       97\n",
       "school 2 class A       73       77\n",
       "         class B       79       89\n",
       "         class C       91       88"
      ]
     },
     "execution_count": 20,
     "metadata": {},
     "output_type": "execute_result"
    }
   ],
   "source": [
    "data"
   ]
  }
 ],
 "metadata": {
  "kernelspec": {
   "display_name": "Python 3 (ipykernel)",
   "language": "python",
   "name": "python3"
  },
  "language_info": {
   "codemirror_mode": {
    "name": "ipython",
    "version": 3
   },
   "file_extension": ".py",
   "mimetype": "text/x-python",
   "name": "python",
   "nbconvert_exporter": "python",
   "pygments_lexer": "ipython3",
   "version": "3.9.13"
  }
 },
 "nbformat": 4,
 "nbformat_minor": 5
}
